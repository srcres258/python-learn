{
 "cells": [
  {
   "cell_type": "code",
   "id": "initial_id",
   "metadata": {
    "collapsed": true,
    "ExecuteTime": {
     "end_time": "2024-11-15T16:30:45.249944Z",
     "start_time": "2024-11-15T16:30:45.247081Z"
    }
   },
   "source": [
    "def insertion_sort(A):\n",
    "    for j in range(1, len(A)):\n",
    "        key = A[j]\n",
    "        i = j - 1\n",
    "        while i >= 0 and A[i] > key:\n",
    "            A[i + 1] = A[i]\n",
    "            i = i - 1\n",
    "        A[i + 1] = key"
   ],
   "outputs": [],
   "execution_count": 1
  },
  {
   "metadata": {
    "ExecuteTime": {
     "end_time": "2024-11-15T16:30:50.267672Z",
     "start_time": "2024-11-15T16:30:50.264336Z"
    }
   },
   "cell_type": "code",
   "source": [
    "A = [5, 2, 4, 6, 1, 3]\n",
    "insertion_sort(A)\n",
    "A"
   ],
   "id": "aefafd3f98173d9",
   "outputs": [
    {
     "data": {
      "text/plain": [
       "[1, 2, 3, 4, 5, 6]"
      ]
     },
     "execution_count": 2,
     "metadata": {},
     "output_type": "execute_result"
    }
   ],
   "execution_count": 2
  },
  {
   "metadata": {
    "ExecuteTime": {
     "end_time": "2024-11-15T16:31:22.946588Z",
     "start_time": "2024-11-15T16:31:22.944337Z"
    }
   },
   "cell_type": "code",
   "source": [
    "A = [31, 41, 59, 26, 41, 58]\n",
    "insertion_sort(A)\n",
    "A"
   ],
   "id": "85223ed4bb46c7b4",
   "outputs": [
    {
     "data": {
      "text/plain": [
       "[26, 31, 41, 41, 58, 59]"
      ]
     },
     "execution_count": 3,
     "metadata": {},
     "output_type": "execute_result"
    }
   ],
   "execution_count": 3
  },
  {
   "metadata": {
    "ExecuteTime": {
     "end_time": "2024-11-15T16:32:11.367502Z",
     "start_time": "2024-11-15T16:32:11.365409Z"
    }
   },
   "cell_type": "code",
   "source": [
    "def insertion_sort_2(A):\n",
    "    for j in range(1, len(A)):\n",
    "        key = A[j]\n",
    "        i = j - 1\n",
    "        while i >= 0 and A[i] < key:\n",
    "            A[i + 1] = A[i]\n",
    "            i = i - 1\n",
    "        A[i + 1] = key"
   ],
   "id": "9befa958212f2049",
   "outputs": [],
   "execution_count": 5
  },
  {
   "metadata": {
    "ExecuteTime": {
     "end_time": "2024-11-15T16:32:12.451939Z",
     "start_time": "2024-11-15T16:32:12.448532Z"
    }
   },
   "cell_type": "code",
   "source": [
    "A = [5, 2, 4, 6, 1, 3]\n",
    "insertion_sort_2(A)\n",
    "A"
   ],
   "id": "bc585fe05ca5b1b",
   "outputs": [
    {
     "data": {
      "text/plain": [
       "[6, 5, 4, 3, 2, 1]"
      ]
     },
     "execution_count": 6,
     "metadata": {},
     "output_type": "execute_result"
    }
   ],
   "execution_count": 6
  },
  {
   "metadata": {
    "ExecuteTime": {
     "end_time": "2024-11-15T16:32:13.827094Z",
     "start_time": "2024-11-15T16:32:13.824823Z"
    }
   },
   "cell_type": "code",
   "source": [
    "A = [31, 41, 59, 26, 41, 58]\n",
    "insertion_sort_2(A)\n",
    "A"
   ],
   "id": "874c388e6d683060",
   "outputs": [
    {
     "data": {
      "text/plain": [
       "[59, 58, 41, 41, 31, 26]"
      ]
     },
     "execution_count": 7,
     "metadata": {},
     "output_type": "execute_result"
    }
   ],
   "execution_count": 7
  }
 ],
 "metadata": {
  "kernelspec": {
   "display_name": "Python 3",
   "language": "python",
   "name": "python3"
  },
  "language_info": {
   "codemirror_mode": {
    "name": "ipython",
    "version": 2
   },
   "file_extension": ".py",
   "mimetype": "text/x-python",
   "name": "python",
   "nbconvert_exporter": "python",
   "pygments_lexer": "ipython2",
   "version": "2.7.6"
  }
 },
 "nbformat": 4,
 "nbformat_minor": 5
}
