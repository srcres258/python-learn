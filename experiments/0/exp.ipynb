{
 "cells": [
  {
   "cell_type": "markdown",
   "id": "8e5edfc06cb9c4ea",
   "metadata": {},
   "source": [
    "# Python 实验1\n",
    "\n",
    "## 自主上机练习：基本数据类型+字符串"
   ]
  },
  {
   "cell_type": "markdown",
   "id": "98b8c775e2d39090",
   "metadata": {},
   "source": [
    "（见本目录下四个文件）"
   ]
  },
  {
   "cell_type": "markdown",
   "id": "963c1ff933ad830b",
   "metadata": {},
   "source": [
    "## 自主上机练习：容器数据类型"
   ]
  },
  {
   "cell_type": "markdown",
   "id": "4ca8a54199228321",
   "metadata": {},
   "source": [
    "（见本目录下四个文件）"
   ]
  },
  {
   "cell_type": "code",
   "execution_count": 1,
   "id": "e9735a93db91944d",
   "metadata": {
    "ExecuteTime": {
     "end_time": "2024-12-23T09:30:39.327640Z",
     "start_time": "2024-12-23T09:30:39.324936Z"
    }
   },
   "outputs": [
    {
     "name": "stdout",
     "output_type": "stream",
     "text": [
      "{1: 'Mon', 'line1': 3332, 2: '2'}\n",
      "{'line1': 3332, 2: '2'}\n",
      "False\n",
      "['line1', 2]\n",
      "[3332, '2']\n",
      "True\n",
      "True\n"
     ]
    }
   ],
   "source": [
    "# dict_base_ops.py\n",
    "\n",
    "mydict = { 1: 'Mon', 'line1': 3332 }\n",
    "'''添加、删除、是否空字典'''\n",
    "# 向字典中添加键值对\n",
    "mydict[2] = '2'\n",
    "print(mydict)\n",
    "# 从字典中删除键值对\n",
    "del mydict[1]\n",
    "print(mydict)\n",
    "# 判断字典是否为空\n",
    "print(len(mydict) == 0)\n",
    "'''取字典中所有的key/value'''\n",
    "# 取字典中所有的键（key）\n",
    "print(list(mydict.keys()))\n",
    "# 取字典中所有的值（value）\n",
    "print(list(mydict.values()))\n",
    "'''判断key是否存在'''\n",
    "print('line1' in mydict.keys()) # 方式一\n",
    "print('line1' in mydict)        # 方式二"
   ]
  },
  {
   "cell_type": "code",
   "execution_count": 2,
   "id": "39315f531d1fb0ac",
   "metadata": {
    "ExecuteTime": {
     "end_time": "2024-12-23T09:30:40.303149Z",
     "start_time": "2024-12-23T09:30:40.300355Z"
    }
   },
   "outputs": [
    {
     "name": "stdout",
     "output_type": "stream",
     "text": [
      "[2, 3, 4]\n",
      "[3, 4, 5]\n",
      "[3, 2, 1]\n",
      "[3, 2, 1]\n",
      "[1, 3, 5]\n",
      "(2, 3, 4)\n",
      "(3, 4, 5)\n",
      "(3, 2, 1)\n",
      "(3, 2, 1)\n",
      "(1, 3, 5)\n",
      "Mike/and/Tom\n"
     ]
    }
   ],
   "source": [
    "# list_tuple_adv_ops.py\n",
    "\n",
    "mylist = [1, 2, 3, 4, 5]\n",
    "'''切片：获得[2,3,4]，获得[3,4,5]，获得[3,2,1]，获得[1,3,5]'''\n",
    "# 获得[2,3,4]\n",
    "print(mylist[1:4])\n",
    "# 获得[3,4,5]\n",
    "print(mylist[2:])\n",
    "# 获得[3,2,1]\n",
    "print(mylist[2::-1])              # 方法一\n",
    "print(list(reversed(mylist[:3]))) # 方法二\n",
    "# 获得[1,3,5]\n",
    "print(mylist[0::2])\n",
    "\n",
    "mytpl = (1, 2, 3, 4, 5)\n",
    "'''切片：获得(2,3,4)，获得(3,4,5)，获得(3,2,1)，获得(1,3,5)'''\n",
    "# 获得[2,3,4]\n",
    "print(mytpl[1:4])\n",
    "# 获得[3,4,5]\n",
    "print(mytpl[2:])\n",
    "# 获得[3,2,1]\n",
    "print(mytpl[2::-1])               # 方法一\n",
    "print(tuple(reversed(mytpl[:3]))) # 方法二\n",
    "# 获得[1,3,5]\n",
    "print(mytpl[0::2])\n",
    "\n",
    "t = 'Mike and Tom'\n",
    "\"\"\"split拆分、join合成为'Mike/and/Tom'\"\"\"\n",
    "print('/'.join(t.split(' ')))"
   ]
  },
  {
   "cell_type": "code",
   "execution_count": 3,
   "id": "5b8f3f94e655579f",
   "metadata": {
    "ExecuteTime": {
     "end_time": "2024-12-23T09:30:40.925710Z",
     "start_time": "2024-12-23T09:30:40.922293Z"
    }
   },
   "outputs": [
    {
     "name": "stdout",
     "output_type": "stream",
     "text": [
      "+ operation\n",
      "a: [1, 2]\n",
      "b: [3, 4, 5]\n",
      "a + b: [1, 2, 3, 4, 5]\n",
      "* operation\n",
      "a: [1, 2]\n",
      "a * 5: [1, 2, 1, 2, 1, 2, 1, 2, 1, 2]\n",
      "len() operation\n",
      "a: [1, 2, 3, 4, 5]\n",
      "len(a): 5\n",
      "[] operation\n",
      "a: [1, 2, 3, 4, 5]\n",
      "a[2]: 3\n",
      "in operation\n",
      "a: [1, 2, 3, 4, 5]\n",
      "3 in a: True\n"
     ]
    }
   ],
   "source": [
    "# list_tuple_base_ops.py\n",
    "\n",
    "# + 操作\n",
    "# 作用：将两个列表合并为一个列表。\n",
    "print('+ operation')\n",
    "a = [1, 2]\n",
    "b = [3, 4, 5]\n",
    "print('a:', a)\n",
    "print('b:', b)\n",
    "print('a + b:', a + b)\n",
    "\n",
    "# * 操作\n",
    "# 作用：将某个列表重复给定次数以得到新列表。\n",
    "print('* operation')\n",
    "a = [1, 2]\n",
    "print('a:', a)\n",
    "print('a * 5:', a * 5)\n",
    "\n",
    "# len() 操作\n",
    "# 作用：获取某个列表的长度。\n",
    "print('len() operation')\n",
    "a = [1, 2, 3, 4, 5]\n",
    "print('a:', a)\n",
    "print('len(a):', len(a))\n",
    "\n",
    "# len() 操作\n",
    "# 作用：取列表中给定索引处的元素。\n",
    "print('[] operation')\n",
    "a = [1, 2, 3, 4, 5]\n",
    "print('a:', a)\n",
    "print('a[2]:', a[2])\n",
    "\n",
    "# in 操作\n",
    "# 作用：判断某元素是否位于列表中。\n",
    "print('in operation')\n",
    "a = [1, 2, 3, 4, 5]\n",
    "print('a:', a)\n",
    "print('3 in a:', 3 in a)"
   ]
  },
  {
   "cell_type": "code",
   "execution_count": 4,
   "id": "da551e02f153f44d",
   "metadata": {
    "ExecuteTime": {
     "end_time": "2024-12-23T09:30:41.402768Z",
     "start_time": "2024-12-23T09:30:41.398956Z"
    }
   },
   "outputs": [
    {
     "name": "stdout",
     "output_type": "stream",
     "text": [
      "{1, 2, 3, 4, 5, 6, 8, 10}\n",
      "{1, 2, 3, 4, 5, 6, 8, 10}\n",
      "{2, 4}\n",
      "{2, 4}\n",
      "{1, 3, 5}\n",
      "{1, 3, 5}\n",
      "{1, 3, 5, 6, 8, 10}\n",
      "{1, 3, 5, 6, 8, 10}\n",
      "False\n",
      "False\n",
      "{1, 2, 3, 4, 5, 6}\n",
      "{1, 2, 3, 4, 5, 6}\n",
      "False\n",
      "False\n"
     ]
    }
   ],
   "source": [
    "# set_base_ops.py\n",
    "\n",
    "a = {1, 2, 3, 4, 5}\n",
    "b = {2, 4, 6, 8, 10}\n",
    "'''并、交、差、异或、子集'''\n",
    "# 并\n",
    "print(a | b)      # 方法一\n",
    "print(a.union(b)) # 方法二\n",
    "# 交\n",
    "print(a & b)             # 方法一\n",
    "print(a.intersection(b)) # 方法二\n",
    "# 差\n",
    "print(a - b)           # 方法一\n",
    "print(a.difference(b)) # 方法二\n",
    "# 异或\n",
    "print(a ^ b)                     # 方法一\n",
    "print(a.symmetric_difference(b)) # 方法二\n",
    "# 子集\n",
    "print(a <= b)        # 方法一\n",
    "print(a.issubset(b)) # 方法二\n",
    "'''添加、删除、是否空集'''\n",
    "# 向集合中添加尚不存在的元素\n",
    "a.add(6)\n",
    "print(a)\n",
    "# 向集合中添加已存在的元素，为无效操作\n",
    "a.add(5)\n",
    "print(a)\n",
    "# 判断是否为空集（方式一）\n",
    "print(len(a) == 0)\n",
    "# 判断是否为空集（方式二）\n",
    "print(a | set() == set())"
   ]
  },
  {
   "cell_type": "code",
   "execution_count": null,
   "id": "65eaa07f78fa5f9e",
   "metadata": {},
   "outputs": [],
   "source": []
  }
 ],
 "metadata": {
  "kernelspec": {
   "display_name": "Python 3 (ipykernel)",
   "language": "python",
   "name": "python3"
  },
  "language_info": {
   "codemirror_mode": {
    "name": "ipython",
    "version": 3
   },
   "file_extension": ".py",
   "mimetype": "text/x-python",
   "name": "python",
   "nbconvert_exporter": "python",
   "pygments_lexer": "ipython3",
   "version": "3.12.3"
  }
 },
 "nbformat": 4,
 "nbformat_minor": 5
}
