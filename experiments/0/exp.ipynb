{
 "cells": [
  {
   "metadata": {},
   "cell_type": "markdown",
   "source": [
    "# Python 实验1\n",
    "\n",
    "## 自主上机练习：基本数据类型+字符串"
   ],
   "id": "8e5edfc06cb9c4ea"
  },
  {
   "metadata": {},
   "cell_type": "markdown",
   "source": "（见本目录下四个文件）",
   "id": "98b8c775e2d39090"
  },
  {
   "metadata": {},
   "cell_type": "markdown",
   "source": "## 自主上机练习：容器数据类型",
   "id": "963c1ff933ad830b"
  },
  {
   "metadata": {},
   "cell_type": "markdown",
   "source": "（见本目录下四个文件）",
   "id": "4ca8a54199228321"
  }
 ],
 "metadata": {
  "kernelspec": {
   "display_name": "Python 3",
   "language": "python",
   "name": "python3"
  },
  "language_info": {
   "codemirror_mode": {
    "name": "ipython",
    "version": 2
   },
   "file_extension": ".py",
   "mimetype": "text/x-python",
   "name": "python",
   "nbconvert_exporter": "python",
   "pygments_lexer": "ipython2",
   "version": "2.7.6"
  }
 },
 "nbformat": 4,
 "nbformat_minor": 5
}
