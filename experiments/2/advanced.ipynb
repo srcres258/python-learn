{
 "cells": [
  {
   "cell_type": "markdown",
   "id": "4af071e85dadac88",
   "metadata": {},
   "source": [
    "# Python 实验3（进阶）\n",
    "\n",
    "## 使用海龟绘制给定照片或艺术作品"
   ]
  },
  {
   "cell_type": "markdown",
   "id": "7de064414e10afcf",
   "metadata": {},
   "source": [
    "### 用到的外部库"
   ]
  },
  {
   "cell_type": "code",
   "execution_count": 1,
   "id": "103ced29dc28ab94",
   "metadata": {
    "ExecuteTime": {
     "end_time": "2024-12-13T14:19:55.219340Z",
     "start_time": "2024-12-13T14:19:55.119726Z"
    }
   },
   "outputs": [],
   "source": [
    "import turtle as tt\n",
    "from bs4 import BeautifulSoup\n",
    "import numpy as np\n",
    "import cv2\n",
    "import os\n",
    "from typing import Generator, Any\n",
    "from tqdm import tqdm"
   ]
  },
  {
   "cell_type": "markdown",
   "id": "ca58defded7f81",
   "metadata": {},
   "source": [
    "### 一些常量与全局变量"
   ]
  },
  {
   "cell_type": "code",
   "execution_count": 2,
   "id": "4780dc348c76d0c5",
   "metadata": {
    "ExecuteTime": {
     "end_time": "2024-12-13T14:19:58.052320Z",
     "start_time": "2024-12-13T14:19:58.050035Z"
    }
   },
   "outputs": [],
   "source": [
    "# 贝塞尔函数（英文：Bézier function，后文略）的取样次数。\n",
    "WRITE_STEP = 15\n",
    "\n",
    "# 界面宽度。\n",
    "WIDTH = 600\n",
    "\n",
    "# 界面高度。\n",
    "HEIGHT = 600\n",
    "\n",
    "# 记录前一个贝塞尔函数的句柄。\n",
    "XH = 0\n",
    "YH = 0\n",
    "\n",
    "# 用于转换 SVG 数据时记录放缩因子。\n",
    "SCALE = (1, 1)\n",
    "\n",
    "# 是否首次调用 SVG 数据处理过程。\n",
    "FIRST = True\n",
    "\n",
    "# 记录绘制过程中要处理多少种颜色。\n",
    "K = 32\n",
    "\n",
    "# 是否禁用绘制动画。\n",
    "DISABLE_ANIMATION = False"
   ]
  },
  {
   "cell_type": "markdown",
   "id": "1fe97f07ce0ca21d",
   "metadata": {},
   "source": [
    "### 贝塞尔函数\n",
    "\n",
    "贝塞尔函数：用于生成贝塞尔曲线。[什么是贝塞尔曲线](https://zhuanlan.zhihu.com/p/688186803)\n",
    "\n"
   ]
  },
  {
   "cell_type": "code",
   "execution_count": 3,
   "id": "e96916bb49caf8fc",
   "metadata": {
    "ExecuteTime": {
     "end_time": "2024-12-13T14:19:58.393258Z",
     "start_time": "2024-12-13T14:19:58.389002Z"
    }
   },
   "outputs": [],
   "source": [
    "def bezier(p1: float, p2: float, t: float) -> float:\n",
    "    \"\"\"\n",
    "    一阶贝塞尔函数。\n",
    "    :param p1:\n",
    "    :param p2:\n",
    "    :param t:\n",
    "    :return:\n",
    "    \"\"\"\n",
    "\n",
    "    return p1 * (1 - t) + p2 * t\n",
    "\n",
    "\n",
    "def bezier_2(\n",
    "        x1: float, y1: float,\n",
    "        x2: float, y2: float,\n",
    "        x3: float, y3: float\n",
    ") -> None:\n",
    "    \"\"\"\n",
    "    二阶贝塞尔函数。\n",
    "    :param x1:\n",
    "    :param y1:\n",
    "    :param x2:\n",
    "    :param y2:\n",
    "    :param x3:\n",
    "    :param y3:\n",
    "    :return:\n",
    "    \"\"\"\n",
    "\n",
    "    tt.goto(x1, y1)\n",
    "    tt.pd()\n",
    "    for t in range(0, WRITE_STEP + 1):\n",
    "        x = bezier(bezier(x1, x2, t / WRITE_STEP),\n",
    "                   bezier(x2, x3, t / WRITE_STEP),\n",
    "                   t / WRITE_STEP)\n",
    "        y = bezier(bezier(y1, y2, t / WRITE_STEP),\n",
    "                   bezier(y2, y3, t / WRITE_STEP),\n",
    "                   t / WRITE_STEP)\n",
    "        tt.goto(x, y)\n",
    "    tt.pu()\n",
    "\n",
    "\n",
    "def bezier_3(\n",
    "        x1: float, y1: float,\n",
    "        x2: float, y2: float,\n",
    "        x3: float, y3: float,\n",
    "        x4: float, y4: float\n",
    ") -> None:\n",
    "    \"\"\"\n",
    "    三阶贝塞尔函数。\n",
    "    :param x1:\n",
    "    :param y1:\n",
    "    :param x2:\n",
    "    :param y2:\n",
    "    :param x3:\n",
    "    :param y3:\n",
    "    :param x4:\n",
    "    :param y4:\n",
    "    :return:\n",
    "    \"\"\"\n",
    "\n",
    "    # 坐标变换\n",
    "    x1 = -WIDTH / 2 + x1\n",
    "    y1 = HEIGHT / 2 - y1\n",
    "    x2 = -WIDTH / 2 + x2\n",
    "    y2 = HEIGHT / 2 - y2\n",
    "    x3 = -WIDTH / 2 + x3\n",
    "    y3 = HEIGHT / 2 - y3\n",
    "    x4 = -WIDTH / 2 + x4\n",
    "    y4 = HEIGHT / 2 - y4\n",
    "\n",
    "    tt.goto(x1, y1)\n",
    "    tt.pd()\n",
    "    for t in range(0, WRITE_STEP + 1):\n",
    "        x = bezier(bezier(bezier(x1, x2, t / WRITE_STEP),\n",
    "                          bezier(x2, x3, t / WRITE_STEP),\n",
    "                          t / WRITE_STEP),\n",
    "                   bezier(bezier(x2, x3, t / WRITE_STEP),\n",
    "                          bezier(x3, x4, t / WRITE_STEP),\n",
    "                          t / WRITE_STEP),\n",
    "                   t / WRITE_STEP)\n",
    "        y = bezier(bezier(bezier(y1, y2, t / WRITE_STEP),\n",
    "                          bezier(y2, y3, t / WRITE_STEP),\n",
    "                          t / WRITE_STEP),\n",
    "                   bezier(bezier(y2, y3, t / WRITE_STEP),\n",
    "                          bezier(y3, y4, t / WRITE_STEP),\n",
    "                          t / WRITE_STEP),\n",
    "                   t / WRITE_STEP)\n",
    "        tt.goto(x, y)\n",
    "    tt.pu()"
   ]
  },
  {
   "cell_type": "markdown",
   "id": "7439c37bdf7a4ec0",
   "metadata": {},
   "source": [
    "### 基于上述贝塞尔函数来绘制矢量图曲线"
   ]
  },
  {
   "cell_type": "code",
   "execution_count": 4,
   "id": "52bf443164dee3d0",
   "metadata": {
    "ExecuteTime": {
     "end_time": "2024-12-13T14:19:58.723219Z",
     "start_time": "2024-12-13T14:19:58.719397Z"
    }
   },
   "outputs": [],
   "source": [
    "def move_to(x: float, y: float) -> None:\n",
    "    \"\"\"\n",
    "    移动到 SVG 坐标下（x，y）。\n",
    "    :param x:\n",
    "    :param y:\n",
    "    :return:\n",
    "    \"\"\"\n",
    "\n",
    "    tt.pu()\n",
    "    tt.goto(-WIDTH / 2 + x, HEIGHT / 2 - y)\n",
    "    tt.pd()\n",
    "\n",
    "\n",
    "def move_to_r(dx: float, dy: float) -> None:\n",
    "    \"\"\"\n",
    "    移动到 SVG 当前相对坐标下（dx，dy）。\n",
    "    :param dx:\n",
    "    :param dy:\n",
    "    :return:\n",
    "    \"\"\"\n",
    "\n",
    "    tt.pu()\n",
    "    tt.goto(tt.xcor() + dx, tt.ycor() - dy)\n",
    "    tt.pd()\n",
    "\n",
    "\n",
    "def line(x1: float, y1: float, x2: float, y2: float) -> None:\n",
    "    \"\"\"\n",
    "    连接 SVG 坐标下两点。\n",
    "    :param x1:\n",
    "    :param y1:\n",
    "    :param x2:\n",
    "    :param y2:\n",
    "    :return:\n",
    "    \"\"\"\n",
    "\n",
    "    tt.pu()\n",
    "    tt.goto(-WIDTH / 2 + x1, HEIGHT / 2 - y1)\n",
    "    tt.pd()\n",
    "    tt.goto(-WIDTH / 2 + x2, HEIGHT / 2 - y2)\n",
    "    tt.pu()\n",
    "\n",
    "\n",
    "def line_to_r(dx: float, dy: float) -> None:\n",
    "    \"\"\"\n",
    "    连接当前点和相对坐标（dx，dy）的点。\n",
    "    :param dx:\n",
    "    :param dy:\n",
    "    :return:\n",
    "    \"\"\"\n",
    "\n",
    "    tt.pd()\n",
    "    tt.goto(tt.xcor() + dx, tt.ycor() - dy)\n",
    "    tt.pu()\n",
    "\n",
    "\n",
    "def line_to(x: float, y: float) -> None:\n",
    "    \"\"\"\n",
    "    连接当前点和 SVG 坐标下（x，y）的点。\n",
    "    :param x:\n",
    "    :param y:\n",
    "    :return:\n",
    "    \"\"\"\n",
    "\n",
    "    tt.pd()\n",
    "    tt.goto(-WIDTH / 2 + x, HEIGHT / 2 - y)\n",
    "    tt.pu()\n",
    "\n",
    "\n",
    "def curve_to(\n",
    "        x1: float, y1: float,\n",
    "        x2: float, y2: float,\n",
    "        x: float, y: float\n",
    ") -> None:\n",
    "    \"\"\"\n",
    "    三阶贝塞尔曲线到（x，y）。\n",
    "    :param x1:\n",
    "    :param y1:\n",
    "    :param x2:\n",
    "    :param y2:\n",
    "    :param x:\n",
    "    :param y:\n",
    "    :return:\n",
    "    \"\"\"\n",
    "\n",
    "    global XH, YH\n",
    "\n",
    "    tt.pu()\n",
    "    x_now = tt.xcor() + WIDTH / 2\n",
    "    y_now = HEIGHT / 2 - tt.ycor()\n",
    "    bezier_3(x_now, y_now, x1, y1, x2, y2, x, y)\n",
    "    XH = x - x2\n",
    "    YH = y - y2\n",
    "\n",
    "\n",
    "def curve_to_r(\n",
    "        x1: float, y1: float,\n",
    "        x2: float, y2: float,\n",
    "        x: float, y: float\n",
    ") -> None:\n",
    "    \"\"\"\n",
    "    # 三阶贝塞尔曲线到相对坐标（x，y）。\n",
    "    :param x1:\n",
    "    :param y1:\n",
    "    :param x2:\n",
    "    :param y2:\n",
    "    :param x:\n",
    "    :param y:\n",
    "    :return:\n",
    "    \"\"\"\n",
    "\n",
    "    global XH, YH\n",
    "\n",
    "    tt.pu()\n",
    "    x_now = tt.xcor() + WIDTH / 2\n",
    "    y_now = HEIGHT / 2 - tt.ycor()\n",
    "    bezier_3(x_now, y_now, x_now + x1, y_now + y1, x_now + x2, y_now + y2, x_now + x, y_now + y)\n",
    "    XH = x - x2\n",
    "    YH = y - y2"
   ]
  },
  {
   "cell_type": "markdown",
   "id": "7421eedd02e65ea7",
   "metadata": {},
   "source": [
    "### 用于处理 SVG 图片数据的辅助函数"
   ]
  },
  {
   "cell_type": "code",
   "execution_count": 5,
   "id": "822975eef36085fb",
   "metadata": {
    "ExecuteTime": {
     "end_time": "2024-12-13T14:19:59.061572Z",
     "start_time": "2024-12-13T14:19:59.059122Z"
    }
   },
   "outputs": [],
   "source": [
    "def transform(w_attr: str) -> None:\n",
    "    global SCALE\n",
    "\n",
    "    funcs = w_attr.split(' ')\n",
    "    for func in funcs:\n",
    "        func_name = func[0:func.find('(')]\n",
    "        if func_name == 'scale':\n",
    "            SCALE = (float(func[func.find('(') + 1:-1].split(',')[0]),\n",
    "                     -float(func[func.find('(') + 1:-1].split(',')[1]))\n",
    "\n",
    "\n",
    "def read_path_attr_d(w_attr: str) -> Generator[float, Any, None]:\n",
    "    ulist = w_attr.split(' ')\n",
    "    for i in ulist:\n",
    "        if len(i) == 0:\n",
    "            continue\n",
    "        elif i.isdigit() or i.isalpha():\n",
    "            yield float(i)\n",
    "        elif i[0].isalpha():\n",
    "            yield i[0]\n",
    "            yield float(i[1:])\n",
    "        elif i[-1].isalpha():\n",
    "            yield float(i[0:-1])\n",
    "        elif i[0] == '-':\n",
    "            yield float(i)"
   ]
  },
  {
   "cell_type": "markdown",
   "id": "f7ee8b24a867f77e",
   "metadata": {},
   "source": [
    "### 绘制 SVG 矢量图\n",
    "\n",
    "定义绘制单一颜色 SVG 矢量图的函数。"
   ]
  },
  {
   "cell_type": "code",
   "execution_count": 6,
   "id": "c77d029cd8a25b64",
   "metadata": {
    "ExecuteTime": {
     "end_time": "2024-12-13T14:19:59.442843Z",
     "start_time": "2024-12-13T14:19:59.437917Z"
    }
   },
   "outputs": [],
   "source": [
    "def draw_svg(filename: str, w_color: str) -> None:\n",
    "    global FIRST\n",
    "\n",
    "    with open(filename, 'r') as svg_file:\n",
    "        svg = BeautifulSoup(svg_file.read(), 'lxml')\n",
    "        height = float(svg.svg.attrs['height'][0:-2])\n",
    "        width = float(svg.svg.attrs['width'][0:-2])\n",
    "        transform(svg.g.attrs['transform'])\n",
    "        if FIRST:\n",
    "            tt.setup(height=height, width=width)\n",
    "            tt.setworldcoordinates(-width / 2 + 300, 300, width / 2 + 300, -height + 300)\n",
    "            tt.mode(\"world\")\n",
    "            FIRST = False\n",
    "        if DISABLE_ANIMATION:\n",
    "            tt.tracer(False)\n",
    "            tt.speed(0)\n",
    "            tt.delay(0)\n",
    "        else:\n",
    "            tt.speed(\"fast\")\n",
    "            tt.tracer(n=1000, delay=10)\n",
    "        tt.pensize(1)\n",
    "        tt.pu()\n",
    "        tt.color(w_color)\n",
    "        tt.shape(\"turtle\")\n",
    "\n",
    "        paths = svg.find_all('path')\n",
    "        for idx, i in enumerate(paths):\n",
    "            print(f\"正在绘制当前色层的第{idx}个path，总共{len(paths)}个\")\n",
    "            attr = i.attrs['d'].replace('\\n', ' ')\n",
    "            f = read_path_attr_d(attr)\n",
    "            last_j = ''\n",
    "            for j in tqdm(f, desc='正在绘制当前path'):\n",
    "                match j:\n",
    "                    case 'M':\n",
    "                        tt.end_fill()\n",
    "                        move_to(next(f) * SCALE[0], next(f) * SCALE[1])\n",
    "                        tt.begin_fill()\n",
    "                    case 'm':\n",
    "                        tt.end_fill()\n",
    "                        move_to_r(next(f) * SCALE[0], next(f) * SCALE[1])\n",
    "                        tt.begin_fill()\n",
    "                    case 'C':\n",
    "                        curve_to(next(f) * SCALE[0], next(f) * SCALE[1],\n",
    "                                 next(f) * SCALE[0], next(f) * SCALE[1],\n",
    "                                 next(f) * SCALE[0], next(f) * SCALE[1])\n",
    "                        last_j = j\n",
    "                    case 'c':\n",
    "                        curve_to_r(next(f) * SCALE[0], next(f) * SCALE[1],\n",
    "                                   next(f) * SCALE[0], next(f) * SCALE[1],\n",
    "                                   next(f) * SCALE[0], next(f) * SCALE[1])\n",
    "                        last_j = j\n",
    "                    case 'L':\n",
    "                        line_to(next(f) * SCALE[0], next(f) * SCALE[1])\n",
    "                    case 'l':\n",
    "                        line_to_r(next(f) * SCALE[0], next(f) * SCALE[1])\n",
    "                        last_j = j\n",
    "                    case _:\n",
    "                        match last_j:\n",
    "                            case 'C':\n",
    "                                curve_to(j * SCALE[0], next(f) * SCALE[1],\n",
    "                                         next(f) * SCALE[0], next(f) * SCALE[1],\n",
    "                                         next(f) * SCALE[0], next(f) * SCALE[1])\n",
    "                            case 'c':\n",
    "                                curve_to_r(j * SCALE[0], next(f) * SCALE[1],\n",
    "                                           next(f) * SCALE[0], next(f) * SCALE[1],\n",
    "                                           next(f) * SCALE[0], next(f) * SCALE[1])\n",
    "                            case 'L':\n",
    "                                line_to(j * SCALE[0], next(f) * SCALE[1])\n",
    "                            case 'l':\n",
    "                                line_to_r(j * SCALE[0], next(f) * SCALE[1])\n",
    "            tt.pu()\n",
    "            tt.update()"
   ]
  },
  {
   "cell_type": "markdown",
   "id": "f64468005726cae5",
   "metadata": {},
   "source": [
    "### 将给定的一整张位图数据使用 OpenCV 进行处理然后绘制\n",
    "\n",
    "将给定的一整张位图数据使用 OpenCV 进行处理，分成不同部分的近似单一颜色区域，交由 potrace 处理为矢量图，然后根据所得矢量数据调用海龟进行绘制。"
   ]
  },
  {
   "cell_type": "code",
   "execution_count": 7,
   "id": "3a6765169f50ff42",
   "metadata": {
    "ExecuteTime": {
     "end_time": "2024-12-13T14:20:00.026336Z",
     "start_time": "2024-12-13T14:20:00.023137Z"
    }
   },
   "outputs": [],
   "source": [
    "def draw_bitmap(w_image: cv2.typing.MatLike) -> None:\n",
    "    print('Reducing the colors...')\n",
    "    z = w_image.reshape((-1, 3))\n",
    "\n",
    "    # convert to np.float32\n",
    "    z = np.float32(z)\n",
    "\n",
    "    # define criteria, number of clusters(K) and apply kmeans()\n",
    "    criteria = (cv2.TERM_CRITERIA_EPS, 10, 1.0)\n",
    "    print('begin kmeans')\n",
    "    ret, label, center = cv2.kmeans(z, K, None, criteria, 10, cv2.KMEANS_RANDOM_CENTERS)\n",
    "    print('end kmeans')\n",
    "\n",
    "    # Now convert back into uint8, and make original image\n",
    "    center = np.uint8(center)\n",
    "    res = center[label.flatten()]\n",
    "    res = res.reshape(w_image.shape)\n",
    "    no = 0\n",
    "    if os.path.exists('./.tmp.bmp'):\n",
    "        os.remove('./.tmp.bmp')\n",
    "    if os.path.exists('./.tmp.svg'):\n",
    "        os.remove('./.tmp.svg')\n",
    "    for i in center:\n",
    "        print(f\"正在绘制第{no}种颜色区域 ({no}/{K}) ...\")\n",
    "        no += 1\n",
    "        res2 = cv2.inRange(res, i, i)\n",
    "        res2 = cv2.bitwise_not(res2)\n",
    "        cv2.imwrite('.tmp.bmp', res2)\n",
    "        os.system('potrace .tmp.bmp -s --flat -o .tmp.svg')\n",
    "        try:\n",
    "            draw_svg('.tmp.svg', '#%02x%02x%02x' % (i[2], i[1], i[0]))\n",
    "        finally:\n",
    "            os.remove('.tmp.bmp')\n",
    "            os.remove('.tmp.svg')\n",
    "    tt.hideturtle()\n",
    "    print('Done.')"
   ]
  },
  {
   "cell_type": "markdown",
   "id": "725be56d934eb3ce",
   "metadata": {},
   "source": [
    "### 测试我们的代码"
   ]
  },
  {
   "cell_type": "code",
   "execution_count": 8,
   "id": "981002bdd6136911",
   "metadata": {
    "ExecuteTime": {
     "end_time": "2024-12-13T14:28:18.656276Z",
     "start_time": "2024-12-13T14:28:18.644687Z"
    }
   },
   "outputs": [
    {
     "name": "stdout",
     "output_type": "stream",
     "text": [
      "/home/srcres/Coding/Projects/python-learn/experiments/2\n"
     ]
    }
   ],
   "source": [
    "print(os.getcwd())\n",
    "bitmap = cv2.imread('4.jpg')"
   ]
  },
  {
   "cell_type": "code",
   "execution_count": 9,
   "id": "bbdf32247f287b03",
   "metadata": {
    "ExecuteTime": {
     "end_time": "2024-12-13T14:28:20.078827Z",
     "start_time": "2024-12-13T14:28:18.824401Z"
    }
   },
   "outputs": [
    {
     "name": "stderr",
     "output_type": "stream",
     "text": [
      "qt.qpa.plugin: Could not find the Qt platform plugin \"wayland\" in \"/home/srcres/.conda/envs/opencv-learn/lib/python3.12/site-packages/cv2/qt/plugins\"\n",
      "QObject::moveToThread: Current thread (0xdb48430) is not the object's thread (0xe69d0a0).\n",
      "Cannot move to target thread (0xdb48430)\n",
      "\n",
      "QObject::moveToThread: Current thread (0xdb48430) is not the object's thread (0xe69d0a0).\n",
      "Cannot move to target thread (0xdb48430)\n",
      "\n",
      "QObject::moveToThread: Current thread (0xdb48430) is not the object's thread (0xe69d0a0).\n",
      "Cannot move to target thread (0xdb48430)\n",
      "\n",
      "QObject::moveToThread: Current thread (0xdb48430) is not the object's thread (0xe69d0a0).\n",
      "Cannot move to target thread (0xdb48430)\n",
      "\n",
      "QObject::moveToThread: Current thread (0xdb48430) is not the object's thread (0xe69d0a0).\n",
      "Cannot move to target thread (0xdb48430)\n",
      "\n",
      "QObject::moveToThread: Current thread (0xdb48430) is not the object's thread (0xe69d0a0).\n",
      "Cannot move to target thread (0xdb48430)\n",
      "\n",
      "QObject::moveToThread: Current thread (0xdb48430) is not the object's thread (0xe69d0a0).\n",
      "Cannot move to target thread (0xdb48430)\n",
      "\n",
      "QObject::moveToThread: Current thread (0xdb48430) is not the object's thread (0xe69d0a0).\n",
      "Cannot move to target thread (0xdb48430)\n",
      "\n",
      "QObject::moveToThread: Current thread (0xdb48430) is not the object's thread (0xe69d0a0).\n",
      "Cannot move to target thread (0xdb48430)\n",
      "\n",
      "QObject::moveToThread: Current thread (0xdb48430) is not the object's thread (0xe69d0a0).\n",
      "Cannot move to target thread (0xdb48430)\n",
      "\n",
      "QObject::moveToThread: Current thread (0xdb48430) is not the object's thread (0xe69d0a0).\n",
      "Cannot move to target thread (0xdb48430)\n",
      "\n",
      "QObject::moveToThread: Current thread (0xdb48430) is not the object's thread (0xe69d0a0).\n",
      "Cannot move to target thread (0xdb48430)\n",
      "\n",
      "QObject::moveToThread: Current thread (0xdb48430) is not the object's thread (0xe69d0a0).\n",
      "Cannot move to target thread (0xdb48430)\n",
      "\n",
      "QObject::moveToThread: Current thread (0xdb48430) is not the object's thread (0xe69d0a0).\n",
      "Cannot move to target thread (0xdb48430)\n",
      "\n",
      "QObject::moveToThread: Current thread (0xdb48430) is not the object's thread (0xe69d0a0).\n",
      "Cannot move to target thread (0xdb48430)\n",
      "\n",
      "QObject::moveToThread: Current thread (0xdb48430) is not the object's thread (0xe69d0a0).\n",
      "Cannot move to target thread (0xdb48430)\n",
      "\n",
      "QObject::moveToThread: Current thread (0xdb48430) is not the object's thread (0xe69d0a0).\n",
      "Cannot move to target thread (0xdb48430)\n",
      "\n",
      "QObject::moveToThread: Current thread (0xdb48430) is not the object's thread (0xe69d0a0).\n",
      "Cannot move to target thread (0xdb48430)\n",
      "\n",
      "QObject::moveToThread: Current thread (0xdb48430) is not the object's thread (0xe69d0a0).\n",
      "Cannot move to target thread (0xdb48430)\n",
      "\n",
      "QObject::moveToThread: Current thread (0xdb48430) is not the object's thread (0xe69d0a0).\n",
      "Cannot move to target thread (0xdb48430)\n",
      "\n",
      "QObject::moveToThread: Current thread (0xdb48430) is not the object's thread (0xe69d0a0).\n",
      "Cannot move to target thread (0xdb48430)\n",
      "\n",
      "QObject::moveToThread: Current thread (0xdb48430) is not the object's thread (0xe69d0a0).\n",
      "Cannot move to target thread (0xdb48430)\n",
      "\n",
      "QObject::moveToThread: Current thread (0xdb48430) is not the object's thread (0xe69d0a0).\n",
      "Cannot move to target thread (0xdb48430)\n",
      "\n",
      "QObject::moveToThread: Current thread (0xdb48430) is not the object's thread (0xe69d0a0).\n",
      "Cannot move to target thread (0xdb48430)\n",
      "\n",
      "QObject::moveToThread: Current thread (0xdb48430) is not the object's thread (0xe69d0a0).\n",
      "Cannot move to target thread (0xdb48430)\n",
      "\n",
      "QObject::moveToThread: Current thread (0xdb48430) is not the object's thread (0xe69d0a0).\n",
      "Cannot move to target thread (0xdb48430)\n",
      "\n",
      "QObject::moveToThread: Current thread (0xdb48430) is not the object's thread (0xe69d0a0).\n",
      "Cannot move to target thread (0xdb48430)\n",
      "\n",
      "QObject::moveToThread: Current thread (0xdb48430) is not the object's thread (0xe69d0a0).\n",
      "Cannot move to target thread (0xdb48430)\n",
      "\n",
      "QObject::moveToThread: Current thread (0xdb48430) is not the object's thread (0xe69d0a0).\n",
      "Cannot move to target thread (0xdb48430)\n",
      "\n",
      "QObject::moveToThread: Current thread (0xdb48430) is not the object's thread (0xe69d0a0).\n",
      "Cannot move to target thread (0xdb48430)\n",
      "\n",
      "QObject::moveToThread: Current thread (0xdb48430) is not the object's thread (0xe69d0a0).\n",
      "Cannot move to target thread (0xdb48430)\n",
      "\n",
      "QObject::moveToThread: Current thread (0xdb48430) is not the object's thread (0xe69d0a0).\n",
      "Cannot move to target thread (0xdb48430)\n",
      "\n",
      "QObject::moveToThread: Current thread (0xdb48430) is not the object's thread (0xe69d0a0).\n",
      "Cannot move to target thread (0xdb48430)\n",
      "\n",
      "QObject::moveToThread: Current thread (0xdb48430) is not the object's thread (0xe69d0a0).\n",
      "Cannot move to target thread (0xdb48430)\n",
      "\n",
      "QObject::moveToThread: Current thread (0xdb48430) is not the object's thread (0xe69d0a0).\n",
      "Cannot move to target thread (0xdb48430)\n",
      "\n",
      "QObject::moveToThread: Current thread (0xdb48430) is not the object's thread (0xe69d0a0).\n",
      "Cannot move to target thread (0xdb48430)\n",
      "\n",
      "QObject::moveToThread: Current thread (0xdb48430) is not the object's thread (0xe69d0a0).\n",
      "Cannot move to target thread (0xdb48430)\n",
      "\n",
      "QObject::moveToThread: Current thread (0xdb48430) is not the object's thread (0xe69d0a0).\n",
      "Cannot move to target thread (0xdb48430)\n",
      "\n",
      "QObject::moveToThread: Current thread (0xdb48430) is not the object's thread (0xe69d0a0).\n",
      "Cannot move to target thread (0xdb48430)\n",
      "\n",
      "QObject::moveToThread: Current thread (0xdb48430) is not the object's thread (0xe69d0a0).\n",
      "Cannot move to target thread (0xdb48430)\n",
      "\n",
      "QObject::moveToThread: Current thread (0xdb48430) is not the object's thread (0xe69d0a0).\n",
      "Cannot move to target thread (0xdb48430)\n",
      "\n",
      "QObject::moveToThread: Current thread (0xdb48430) is not the object's thread (0xe69d0a0).\n",
      "Cannot move to target thread (0xdb48430)\n",
      "\n",
      "QObject::moveToThread: Current thread (0xdb48430) is not the object's thread (0xe69d0a0).\n",
      "Cannot move to target thread (0xdb48430)\n",
      "\n",
      "QObject::moveToThread: Current thread (0xdb48430) is not the object's thread (0xe69d0a0).\n",
      "Cannot move to target thread (0xdb48430)\n",
      "\n",
      "QObject::moveToThread: Current thread (0xdb48430) is not the object's thread (0xe69d0a0).\n",
      "Cannot move to target thread (0xdb48430)\n",
      "\n",
      "QObject::moveToThread: Current thread (0xdb48430) is not the object's thread (0xe69d0a0).\n",
      "Cannot move to target thread (0xdb48430)\n",
      "\n",
      "QObject::moveToThread: Current thread (0xdb48430) is not the object's thread (0xe69d0a0).\n",
      "Cannot move to target thread (0xdb48430)\n",
      "\n",
      "QObject::moveToThread: Current thread (0xdb48430) is not the object's thread (0xe69d0a0).\n",
      "Cannot move to target thread (0xdb48430)\n",
      "\n",
      "QObject::moveToThread: Current thread (0xdb48430) is not the object's thread (0xe69d0a0).\n",
      "Cannot move to target thread (0xdb48430)\n",
      "\n",
      "QObject::moveToThread: Current thread (0xdb48430) is not the object's thread (0xe69d0a0).\n",
      "Cannot move to target thread (0xdb48430)\n",
      "\n",
      "QObject::moveToThread: Current thread (0xdb48430) is not the object's thread (0xe69d0a0).\n",
      "Cannot move to target thread (0xdb48430)\n",
      "\n",
      "QObject::moveToThread: Current thread (0xdb48430) is not the object's thread (0xe69d0a0).\n",
      "Cannot move to target thread (0xdb48430)\n",
      "\n",
      "QObject::moveToThread: Current thread (0xdb48430) is not the object's thread (0xe69d0a0).\n",
      "Cannot move to target thread (0xdb48430)\n",
      "\n",
      "QObject::moveToThread: Current thread (0xdb48430) is not the object's thread (0xe69d0a0).\n",
      "Cannot move to target thread (0xdb48430)\n",
      "\n",
      "QObject::moveToThread: Current thread (0xdb48430) is not the object's thread (0xe69d0a0).\n",
      "Cannot move to target thread (0xdb48430)\n",
      "\n",
      "QObject::moveToThread: Current thread (0xdb48430) is not the object's thread (0xe69d0a0).\n",
      "Cannot move to target thread (0xdb48430)\n",
      "\n",
      "QObject::moveToThread: Current thread (0xdb48430) is not the object's thread (0xe69d0a0).\n",
      "Cannot move to target thread (0xdb48430)\n",
      "\n",
      "QObject::moveToThread: Current thread (0xdb48430) is not the object's thread (0xe69d0a0).\n",
      "Cannot move to target thread (0xdb48430)\n",
      "\n",
      "QObject::moveToThread: Current thread (0xdb48430) is not the object's thread (0xe69d0a0).\n",
      "Cannot move to target thread (0xdb48430)\n",
      "\n",
      "QObject::moveToThread: Current thread (0xdb48430) is not the object's thread (0xe69d0a0).\n",
      "Cannot move to target thread (0xdb48430)\n",
      "\n",
      "QObject::moveToThread: Current thread (0xdb48430) is not the object's thread (0xe69d0a0).\n",
      "Cannot move to target thread (0xdb48430)\n",
      "\n",
      "QObject::moveToThread: Current thread (0xdb48430) is not the object's thread (0xe69d0a0).\n",
      "Cannot move to target thread (0xdb48430)\n",
      "\n",
      "QObject::moveToThread: Current thread (0xdb48430) is not the object's thread (0xe69d0a0).\n",
      "Cannot move to target thread (0xdb48430)\n",
      "\n",
      "QObject::moveToThread: Current thread (0xdb48430) is not the object's thread (0xe69d0a0).\n",
      "Cannot move to target thread (0xdb48430)\n",
      "\n",
      "QObject::moveToThread: Current thread (0xdb48430) is not the object's thread (0xe69d0a0).\n",
      "Cannot move to target thread (0xdb48430)\n",
      "\n",
      "QObject::moveToThread: Current thread (0xdb48430) is not the object's thread (0xe69d0a0).\n",
      "Cannot move to target thread (0xdb48430)\n",
      "\n",
      "QObject::moveToThread: Current thread (0xdb48430) is not the object's thread (0xe69d0a0).\n",
      "Cannot move to target thread (0xdb48430)\n",
      "\n",
      "QObject::moveToThread: Current thread (0xdb48430) is not the object's thread (0xe69d0a0).\n",
      "Cannot move to target thread (0xdb48430)\n",
      "\n",
      "QObject::moveToThread: Current thread (0xdb48430) is not the object's thread (0xe69d0a0).\n",
      "Cannot move to target thread (0xdb48430)\n",
      "\n",
      "QObject::moveToThread: Current thread (0xdb48430) is not the object's thread (0xe69d0a0).\n",
      "Cannot move to target thread (0xdb48430)\n",
      "\n",
      "QObject::moveToThread: Current thread (0xdb48430) is not the object's thread (0xe69d0a0).\n",
      "Cannot move to target thread (0xdb48430)\n",
      "\n",
      "QObject::moveToThread: Current thread (0xdb48430) is not the object's thread (0xe69d0a0).\n",
      "Cannot move to target thread (0xdb48430)\n",
      "\n",
      "QObject::moveToThread: Current thread (0xdb48430) is not the object's thread (0xe69d0a0).\n",
      "Cannot move to target thread (0xdb48430)\n",
      "\n",
      "QObject::moveToThread: Current thread (0xdb48430) is not the object's thread (0xe69d0a0).\n",
      "Cannot move to target thread (0xdb48430)\n",
      "\n",
      "QObject::moveToThread: Current thread (0xdb48430) is not the object's thread (0xe69d0a0).\n",
      "Cannot move to target thread (0xdb48430)\n",
      "\n",
      "QObject::moveToThread: Current thread (0xdb48430) is not the object's thread (0xe69d0a0).\n",
      "Cannot move to target thread (0xdb48430)\n",
      "\n",
      "QObject::moveToThread: Current thread (0xdb48430) is not the object's thread (0xe69d0a0).\n",
      "Cannot move to target thread (0xdb48430)\n",
      "\n",
      "QObject::moveToThread: Current thread (0xdb48430) is not the object's thread (0xe69d0a0).\n",
      "Cannot move to target thread (0xdb48430)\n",
      "\n",
      "QObject::moveToThread: Current thread (0xdb48430) is not the object's thread (0xe69d0a0).\n",
      "Cannot move to target thread (0xdb48430)\n",
      "\n",
      "QObject::moveToThread: Current thread (0xdb48430) is not the object's thread (0xe69d0a0).\n",
      "Cannot move to target thread (0xdb48430)\n",
      "\n",
      "QObject::moveToThread: Current thread (0xdb48430) is not the object's thread (0xe69d0a0).\n",
      "Cannot move to target thread (0xdb48430)\n",
      "\n",
      "QObject::moveToThread: Current thread (0xdb48430) is not the object's thread (0xe69d0a0).\n",
      "Cannot move to target thread (0xdb48430)\n",
      "\n",
      "QObject::moveToThread: Current thread (0xdb48430) is not the object's thread (0xe69d0a0).\n",
      "Cannot move to target thread (0xdb48430)\n",
      "\n",
      "QObject::moveToThread: Current thread (0xdb48430) is not the object's thread (0xe69d0a0).\n",
      "Cannot move to target thread (0xdb48430)\n",
      "\n",
      "QObject::moveToThread: Current thread (0xdb48430) is not the object's thread (0xe69d0a0).\n",
      "Cannot move to target thread (0xdb48430)\n",
      "\n",
      "QObject::moveToThread: Current thread (0xdb48430) is not the object's thread (0xe69d0a0).\n",
      "Cannot move to target thread (0xdb48430)\n",
      "\n",
      "QObject::moveToThread: Current thread (0xdb48430) is not the object's thread (0xe69d0a0).\n",
      "Cannot move to target thread (0xdb48430)\n",
      "\n",
      "QObject::moveToThread: Current thread (0xdb48430) is not the object's thread (0xe69d0a0).\n",
      "Cannot move to target thread (0xdb48430)\n",
      "\n",
      "QObject::moveToThread: Current thread (0xdb48430) is not the object's thread (0xe69d0a0).\n",
      "Cannot move to target thread (0xdb48430)\n",
      "\n",
      "QObject::moveToThread: Current thread (0xdb48430) is not the object's thread (0xe69d0a0).\n",
      "Cannot move to target thread (0xdb48430)\n",
      "\n",
      "QObject::moveToThread: Current thread (0xdb48430) is not the object's thread (0xe69d0a0).\n",
      "Cannot move to target thread (0xdb48430)\n",
      "\n",
      "QObject::moveToThread: Current thread (0xdb48430) is not the object's thread (0xe69d0a0).\n",
      "Cannot move to target thread (0xdb48430)\n",
      "\n",
      "QObject::moveToThread: Current thread (0xdb48430) is not the object's thread (0xe69d0a0).\n",
      "Cannot move to target thread (0xdb48430)\n",
      "\n",
      "QObject::moveToThread: Current thread (0xdb48430) is not the object's thread (0xe69d0a0).\n",
      "Cannot move to target thread (0xdb48430)\n",
      "\n",
      "QObject::moveToThread: Current thread (0xdb48430) is not the object's thread (0xe69d0a0).\n",
      "Cannot move to target thread (0xdb48430)\n",
      "\n",
      "QObject::moveToThread: Current thread (0xdb48430) is not the object's thread (0xe69d0a0).\n",
      "Cannot move to target thread (0xdb48430)\n",
      "\n",
      "QObject::moveToThread: Current thread (0xdb48430) is not the object's thread (0xe69d0a0).\n",
      "Cannot move to target thread (0xdb48430)\n",
      "\n",
      "QObject::moveToThread: Current thread (0xdb48430) is not the object's thread (0xe69d0a0).\n",
      "Cannot move to target thread (0xdb48430)\n",
      "\n",
      "QObject::moveToThread: Current thread (0xdb48430) is not the object's thread (0xe69d0a0).\n",
      "Cannot move to target thread (0xdb48430)\n",
      "\n",
      "QObject::moveToThread: Current thread (0xdb48430) is not the object's thread (0xe69d0a0).\n",
      "Cannot move to target thread (0xdb48430)\n",
      "\n",
      "QObject::moveToThread: Current thread (0xdb48430) is not the object's thread (0xe69d0a0).\n",
      "Cannot move to target thread (0xdb48430)\n",
      "\n",
      "QObject::moveToThread: Current thread (0xdb48430) is not the object's thread (0xe69d0a0).\n",
      "Cannot move to target thread (0xdb48430)\n",
      "\n",
      "QObject::moveToThread: Current thread (0xdb48430) is not the object's thread (0xe69d0a0).\n",
      "Cannot move to target thread (0xdb48430)\n",
      "\n",
      "QObject::moveToThread: Current thread (0xdb48430) is not the object's thread (0xe69d0a0).\n",
      "Cannot move to target thread (0xdb48430)\n",
      "\n",
      "QObject::moveToThread: Current thread (0xdb48430) is not the object's thread (0xe69d0a0).\n",
      "Cannot move to target thread (0xdb48430)\n",
      "\n",
      "QObject::moveToThread: Current thread (0xdb48430) is not the object's thread (0xe69d0a0).\n",
      "Cannot move to target thread (0xdb48430)\n",
      "\n",
      "QObject::moveToThread: Current thread (0xdb48430) is not the object's thread (0xe69d0a0).\n",
      "Cannot move to target thread (0xdb48430)\n",
      "\n",
      "QObject::moveToThread: Current thread (0xdb48430) is not the object's thread (0xe69d0a0).\n",
      "Cannot move to target thread (0xdb48430)\n",
      "\n",
      "QObject::moveToThread: Current thread (0xdb48430) is not the object's thread (0xe69d0a0).\n",
      "Cannot move to target thread (0xdb48430)\n",
      "\n",
      "QObject::moveToThread: Current thread (0xdb48430) is not the object's thread (0xe69d0a0).\n",
      "Cannot move to target thread (0xdb48430)\n",
      "\n",
      "QObject::moveToThread: Current thread (0xdb48430) is not the object's thread (0xe69d0a0).\n",
      "Cannot move to target thread (0xdb48430)\n",
      "\n",
      "QObject::moveToThread: Current thread (0xdb48430) is not the object's thread (0xe69d0a0).\n",
      "Cannot move to target thread (0xdb48430)\n",
      "\n",
      "QObject::moveToThread: Current thread (0xdb48430) is not the object's thread (0xe69d0a0).\n",
      "Cannot move to target thread (0xdb48430)\n",
      "\n",
      "QObject::moveToThread: Current thread (0xdb48430) is not the object's thread (0xe69d0a0).\n",
      "Cannot move to target thread (0xdb48430)\n",
      "\n",
      "QObject::moveToThread: Current thread (0xdb48430) is not the object's thread (0xe69d0a0).\n",
      "Cannot move to target thread (0xdb48430)\n",
      "\n",
      "QObject::moveToThread: Current thread (0xdb48430) is not the object's thread (0xe69d0a0).\n",
      "Cannot move to target thread (0xdb48430)\n",
      "\n",
      "QObject::moveToThread: Current thread (0xdb48430) is not the object's thread (0xe69d0a0).\n",
      "Cannot move to target thread (0xdb48430)\n",
      "\n",
      "QObject::moveToThread: Current thread (0xdb48430) is not the object's thread (0xe69d0a0).\n",
      "Cannot move to target thread (0xdb48430)\n",
      "\n",
      "QObject::moveToThread: Current thread (0xdb48430) is not the object's thread (0xe69d0a0).\n",
      "Cannot move to target thread (0xdb48430)\n",
      "\n",
      "QObject::moveToThread: Current thread (0xdb48430) is not the object's thread (0xe69d0a0).\n",
      "Cannot move to target thread (0xdb48430)\n",
      "\n",
      "QObject::moveToThread: Current thread (0xdb48430) is not the object's thread (0xe69d0a0).\n",
      "Cannot move to target thread (0xdb48430)\n",
      "\n",
      "QObject::moveToThread: Current thread (0xdb48430) is not the object's thread (0xe69d0a0).\n",
      "Cannot move to target thread (0xdb48430)\n",
      "\n",
      "QObject::moveToThread: Current thread (0xdb48430) is not the object's thread (0xe69d0a0).\n",
      "Cannot move to target thread (0xdb48430)\n",
      "\n",
      "QObject::moveToThread: Current thread (0xdb48430) is not the object's thread (0xe69d0a0).\n",
      "Cannot move to target thread (0xdb48430)\n",
      "\n",
      "QObject::moveToThread: Current thread (0xdb48430) is not the object's thread (0xe69d0a0).\n",
      "Cannot move to target thread (0xdb48430)\n",
      "\n",
      "QObject::moveToThread: Current thread (0xdb48430) is not the object's thread (0xe69d0a0).\n",
      "Cannot move to target thread (0xdb48430)\n",
      "\n",
      "QObject::moveToThread: Current thread (0xdb48430) is not the object's thread (0xe69d0a0).\n",
      "Cannot move to target thread (0xdb48430)\n",
      "\n",
      "QObject::moveToThread: Current thread (0xdb48430) is not the object's thread (0xe69d0a0).\n",
      "Cannot move to target thread (0xdb48430)\n",
      "\n",
      "QObject::moveToThread: Current thread (0xdb48430) is not the object's thread (0xe69d0a0).\n",
      "Cannot move to target thread (0xdb48430)\n",
      "\n",
      "QObject::moveToThread: Current thread (0xdb48430) is not the object's thread (0xe69d0a0).\n",
      "Cannot move to target thread (0xdb48430)\n",
      "\n",
      "QObject::moveToThread: Current thread (0xdb48430) is not the object's thread (0xe69d0a0).\n",
      "Cannot move to target thread (0xdb48430)\n",
      "\n",
      "QObject::moveToThread: Current thread (0xdb48430) is not the object's thread (0xe69d0a0).\n",
      "Cannot move to target thread (0xdb48430)\n",
      "\n",
      "QObject::moveToThread: Current thread (0xdb48430) is not the object's thread (0xe69d0a0).\n",
      "Cannot move to target thread (0xdb48430)\n",
      "\n",
      "QObject::moveToThread: Current thread (0xdb48430) is not the object's thread (0xe69d0a0).\n",
      "Cannot move to target thread (0xdb48430)\n",
      "\n",
      "QObject::moveToThread: Current thread (0xdb48430) is not the object's thread (0xe69d0a0).\n",
      "Cannot move to target thread (0xdb48430)\n",
      "\n",
      "QObject::moveToThread: Current thread (0xdb48430) is not the object's thread (0xe69d0a0).\n",
      "Cannot move to target thread (0xdb48430)\n",
      "\n",
      "QObject::moveToThread: Current thread (0xdb48430) is not the object's thread (0xe69d0a0).\n",
      "Cannot move to target thread (0xdb48430)\n",
      "\n",
      "QObject::moveToThread: Current thread (0xdb48430) is not the object's thread (0xe69d0a0).\n",
      "Cannot move to target thread (0xdb48430)\n",
      "\n",
      "QObject::moveToThread: Current thread (0xdb48430) is not the object's thread (0xe69d0a0).\n",
      "Cannot move to target thread (0xdb48430)\n",
      "\n",
      "QObject::moveToThread: Current thread (0xdb48430) is not the object's thread (0xe69d0a0).\n",
      "Cannot move to target thread (0xdb48430)\n",
      "\n",
      "QObject::moveToThread: Current thread (0xdb48430) is not the object's thread (0xe69d0a0).\n",
      "Cannot move to target thread (0xdb48430)\n",
      "\n",
      "QObject::moveToThread: Current thread (0xdb48430) is not the object's thread (0xe69d0a0).\n",
      "Cannot move to target thread (0xdb48430)\n",
      "\n",
      "QObject::moveToThread: Current thread (0xdb48430) is not the object's thread (0xe69d0a0).\n",
      "Cannot move to target thread (0xdb48430)\n",
      "\n"
     ]
    }
   ],
   "source": [
    "cv2.imshow('preview', bitmap)\n",
    "cv2.waitKey(0)\n",
    "cv2.destroyAllWindows()"
   ]
  },
  {
   "cell_type": "code",
   "execution_count": 12,
   "id": "f2989f7ab736b7e3",
   "metadata": {
    "ExecuteTime": {
     "end_time": "2024-12-13T14:31:18.734948Z",
     "start_time": "2024-12-13T14:31:18.731562Z"
    }
   },
   "outputs": [],
   "source": [
    "# 先重置一下常量与全局变量。\n",
    "\n",
    "# 贝塞尔函数（英文：Bézier function，后文略）的取样次数。\n",
    "WRITE_STEP = 16\n",
    "\n",
    "# 界面宽度。\n",
    "WIDTH = 600\n",
    "\n",
    "# 界面高度。\n",
    "HEIGHT = 600\n",
    "\n",
    "# 记录前一个贝塞尔函数的句柄。\n",
    "XH = 0\n",
    "YH = 0\n",
    "\n",
    "# 用于转换 SVG 数据时记录放缩因子。\n",
    "SCALE = (1, 1)\n",
    "\n",
    "# 是否首次调用 SVG 数据处理过程。\n",
    "FIRST = True\n",
    "\n",
    "# 记录绘制过程中要处理多少种颜色。\n",
    "K = 20\n",
    "\n",
    "# 是否禁用绘制动画。\n",
    "DISABLE_ANIMATION = False"
   ]
  },
  {
   "cell_type": "code",
   "execution_count": 11,
   "id": "34a168e0a16313af",
   "metadata": {
    "ExecuteTime": {
     "end_time": "2024-12-13T14:35:07.147291Z",
     "start_time": "2024-12-13T14:31:19.456332Z"
    }
   },
   "outputs": [
    {
     "name": "stdout",
     "output_type": "stream",
     "text": [
      "Reducing the colors...\n",
      "begin kmeans\n"
     ]
    },
    {
     "name": "stderr",
     "output_type": "stream",
     "text": [
      "/tmp/ipykernel_192434/89354505.py:5: XMLParsedAsHTMLWarning: It looks like you're parsing an XML document using an HTML parser. If this really is an HTML document (maybe it's XHTML?), you can ignore or filter this warning. If it's XML, you should know that using an XML parser will be more reliable. To parse this document as XML, make sure you have the lxml package installed, and pass the keyword argument `features=\"xml\"` into the BeautifulSoup constructor.\n",
      "  svg = BeautifulSoup(svg_file.read(), 'lxml')\n"
     ]
    },
    {
     "name": "stdout",
     "output_type": "stream",
     "text": [
      "end kmeans\n",
      "正在绘制第0种颜色区域 (0/20) ...\n",
      "正在绘制当前色层的第0个path，总共1个\n"
     ]
    },
    {
     "name": "stderr",
     "output_type": "stream",
     "text": [
      "正在绘制当前path: 2930it [00:00, 7402.35it/s]\n"
     ]
    },
    {
     "name": "stdout",
     "output_type": "stream",
     "text": [
      "正在绘制第1种颜色区域 (1/20) ...\n",
      "正在绘制当前色层的第0个path，总共1个\n"
     ]
    },
    {
     "name": "stderr",
     "output_type": "stream",
     "text": [
      "正在绘制当前path: 6601it [00:02, 2959.71it/s]\n"
     ]
    },
    {
     "name": "stdout",
     "output_type": "stream",
     "text": [
      "正在绘制第2种颜色区域 (2/20) ...\n",
      "正在绘制当前色层的第0个path，总共1个\n"
     ]
    },
    {
     "name": "stderr",
     "output_type": "stream",
     "text": [
      "正在绘制当前path: 5051it [00:03, 1417.54it/s]\n"
     ]
    },
    {
     "name": "stdout",
     "output_type": "stream",
     "text": [
      "正在绘制第3种颜色区域 (3/20) ...\n",
      "正在绘制当前色层的第0个path，总共1个\n"
     ]
    },
    {
     "name": "stderr",
     "output_type": "stream",
     "text": [
      "正在绘制当前path: 50it [00:00, 1563.99it/s]\n"
     ]
    },
    {
     "name": "stdout",
     "output_type": "stream",
     "text": [
      "正在绘制第4种颜色区域 (4/20) ...\n",
      "正在绘制当前色层的第0个path，总共1个\n"
     ]
    },
    {
     "name": "stderr",
     "output_type": "stream",
     "text": [
      "正在绘制当前path: 16629it [00:18, 893.22it/s] \n"
     ]
    },
    {
     "name": "stdout",
     "output_type": "stream",
     "text": [
      "正在绘制第5种颜色区域 (5/20) ...\n",
      "正在绘制当前色层的第0个path，总共1个\n"
     ]
    },
    {
     "name": "stderr",
     "output_type": "stream",
     "text": [
      "正在绘制当前path: 286it [00:00, 501.03it/s]\n"
     ]
    },
    {
     "name": "stdout",
     "output_type": "stream",
     "text": [
      "正在绘制第6种颜色区域 (6/20) ...\n",
      "正在绘制当前色层的第0个path，总共1个\n"
     ]
    },
    {
     "name": "stderr",
     "output_type": "stream",
     "text": [
      "正在绘制当前path: 363it [00:00, 612.22it/s]\n"
     ]
    },
    {
     "name": "stdout",
     "output_type": "stream",
     "text": [
      "正在绘制第7种颜色区域 (7/20) ...\n",
      "正在绘制当前色层的第0个path，总共1个\n"
     ]
    },
    {
     "name": "stderr",
     "output_type": "stream",
     "text": [
      "正在绘制当前path: 353it [00:00, 426.99it/s]\n"
     ]
    },
    {
     "name": "stdout",
     "output_type": "stream",
     "text": [
      "正在绘制第8种颜色区域 (8/20) ...\n",
      "正在绘制当前色层的第0个path，总共1个\n"
     ]
    },
    {
     "name": "stderr",
     "output_type": "stream",
     "text": [
      "正在绘制当前path: 221it [00:00, 597.67it/s]\n"
     ]
    },
    {
     "name": "stdout",
     "output_type": "stream",
     "text": [
      "正在绘制第9种颜色区域 (9/20) ...\n",
      "正在绘制当前色层的第0个path，总共1个\n"
     ]
    },
    {
     "name": "stderr",
     "output_type": "stream",
     "text": [
      "正在绘制当前path: 7935it [00:13, 597.44it/s]\n"
     ]
    },
    {
     "name": "stdout",
     "output_type": "stream",
     "text": [
      "正在绘制第10种颜色区域 (10/20) ...\n",
      "正在绘制当前色层的第0个path，总共1个\n"
     ]
    },
    {
     "name": "stderr",
     "output_type": "stream",
     "text": [
      "正在绘制当前path: 6606it [00:15, 425.22it/s]\n"
     ]
    },
    {
     "name": "stdout",
     "output_type": "stream",
     "text": [
      "正在绘制第11种颜色区域 (11/20) ...\n",
      "正在绘制当前色层的第0个path，总共1个\n"
     ]
    },
    {
     "name": "stderr",
     "output_type": "stream",
     "text": [
      "正在绘制当前path: 1547it [00:04, 345.10it/s]\n"
     ]
    },
    {
     "name": "stdout",
     "output_type": "stream",
     "text": [
      "正在绘制第12种颜色区域 (12/20) ...\n",
      "正在绘制当前色层的第0个path，总共1个\n"
     ]
    },
    {
     "name": "stderr",
     "output_type": "stream",
     "text": [
      "正在绘制当前path: 5750it [00:16, 358.06it/s]\n"
     ]
    },
    {
     "name": "stdout",
     "output_type": "stream",
     "text": [
      "正在绘制第13种颜色区域 (13/20) ...\n",
      "正在绘制当前色层的第0个path，总共1个\n"
     ]
    },
    {
     "name": "stderr",
     "output_type": "stream",
     "text": [
      "正在绘制当前path: 8181it [00:29, 273.65it/s]\n"
     ]
    },
    {
     "name": "stdout",
     "output_type": "stream",
     "text": [
      "正在绘制第14种颜色区域 (14/20) ...\n",
      "正在绘制当前色层的第0个path，总共1个\n"
     ]
    },
    {
     "name": "stderr",
     "output_type": "stream",
     "text": [
      "正在绘制当前path: 1490it [00:08, 173.98it/s]\n"
     ]
    },
    {
     "name": "stdout",
     "output_type": "stream",
     "text": [
      "正在绘制第15种颜色区域 (15/20) ...\n",
      "正在绘制当前色层的第0个path，总共1个\n"
     ]
    },
    {
     "name": "stderr",
     "output_type": "stream",
     "text": [
      "正在绘制当前path: 2625it [00:12, 203.56it/s]\n"
     ]
    },
    {
     "name": "stdout",
     "output_type": "stream",
     "text": [
      "正在绘制第16种颜色区域 (16/20) ...\n",
      "正在绘制当前色层的第0个path，总共1个\n"
     ]
    },
    {
     "name": "stderr",
     "output_type": "stream",
     "text": [
      "正在绘制当前path: 1859it [00:07, 245.26it/s]\n"
     ]
    },
    {
     "name": "stdout",
     "output_type": "stream",
     "text": [
      "正在绘制第17种颜色区域 (17/20) ...\n",
      "正在绘制当前色层的第0个path，总共1个\n"
     ]
    },
    {
     "name": "stderr",
     "output_type": "stream",
     "text": [
      "正在绘制当前path: 9489it [00:44, 213.23it/s]\n"
     ]
    },
    {
     "name": "stdout",
     "output_type": "stream",
     "text": [
      "正在绘制第18种颜色区域 (18/20) ...\n",
      "正在绘制当前色层的第0个path，总共1个\n"
     ]
    },
    {
     "name": "stderr",
     "output_type": "stream",
     "text": [
      "正在绘制当前path: 8259it [00:38, 217.24it/s]\n"
     ]
    },
    {
     "name": "stdout",
     "output_type": "stream",
     "text": [
      "正在绘制第19种颜色区域 (19/20) ...\n",
      "正在绘制当前色层的第0个path，总共1个\n"
     ]
    },
    {
     "name": "stderr",
     "output_type": "stream",
     "text": [
      "正在绘制当前path: 5107it [00:30, 170.16it/s]\n"
     ]
    },
    {
     "name": "stdout",
     "output_type": "stream",
     "text": [
      "Done.\n"
     ]
    }
   ],
   "source": [
    "# 先清屏\n",
    "tt.clearscreen()\n",
    "# 再调用海龟进行绘图\n",
    "draw_bitmap(bitmap)"
   ]
  },
  {
   "cell_type": "markdown",
   "id": "bbd77e26-f746-4f3b-a423-69f9d7b840c2",
   "metadata": {},
   "source": [
    "![](2.png)"
   ]
  },
  {
   "cell_type": "code",
   "execution_count": null,
   "id": "bc0e450e2834f3bf",
   "metadata": {},
   "outputs": [],
   "source": []
  }
 ],
 "metadata": {
  "kernelspec": {
   "display_name": "Python 3 (ipykernel)",
   "language": "python",
   "name": "python3"
  },
  "language_info": {
   "codemirror_mode": {
    "name": "ipython",
    "version": 3
   },
   "file_extension": ".py",
   "mimetype": "text/x-python",
   "name": "python",
   "nbconvert_exporter": "python",
   "pygments_lexer": "ipython3",
   "version": "3.12.3"
  }
 },
 "nbformat": 4,
 "nbformat_minor": 5
}
