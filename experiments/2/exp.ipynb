{
 "cells": [
  {
   "metadata": {},
   "cell_type": "markdown",
   "source": [
    "# Python 实验3\n",
    "\n",
    "## 海龟制图\n",
    "\n",
    "1. 深度优先（DFS）方式绘制树状结构"
   ],
   "id": "8b37f625e43c4cc2"
  },
  {
   "cell_type": "code",
   "id": "initial_id",
   "metadata": {
    "collapsed": true,
    "ExecuteTime": {
     "end_time": "2024-11-23T06:59:09.214227Z",
     "start_time": "2024-11-23T06:59:09.206863Z"
    }
   },
   "source": [
    "import turtle\n",
    "import queue\n",
    "import typing"
   ],
   "outputs": [],
   "execution_count": 44
  },
  {
   "metadata": {
    "ExecuteTime": {
     "end_time": "2024-11-23T07:13:43.020954Z",
     "start_time": "2024-11-23T07:13:43.015579Z"
    }
   },
   "cell_type": "code",
   "source": [
    "def draw_tree_dfs(t: turtle.Turtle, td: int, cd: int, step: int) -> None:\n",
    "    \"\"\"\n",
    "    用海龟绘制分形树状结构（深度优先）。\n",
    "    :param t: \n",
    "    :param td: \n",
    "    :param cd: \n",
    "    :param step: \n",
    "    :return: \n",
    "    \"\"\"\n",
    "    \n",
    "    cs = step / cd\n",
    "    t.forward(cs)\n",
    "    if cd == td:\n",
    "        return\n",
    "    if cd == td - 1:\n",
    "        t.color('pink')\n",
    "        t.showturtle()\n",
    "    tl = t.clone()\n",
    "    tl.left(40)\n",
    "    draw_tree_dfs(tl, td, cd + 1, step)\n",
    "    tr = t.clone()\n",
    "    tr.right(30)\n",
    "    draw_tree_dfs(tr, td, cd + 1, step)"
   ],
   "id": "195197388fd7dab1",
   "outputs": [],
   "execution_count": 81
  },
  {
   "metadata": {
    "ExecuteTime": {
     "end_time": "2024-11-23T07:13:43.995928Z",
     "start_time": "2024-11-23T07:13:43.968948Z"
    }
   },
   "cell_type": "code",
   "source": "turtle.clearscreen()",
   "id": "d2649db0566c953b",
   "outputs": [],
   "execution_count": 82
  },
  {
   "metadata": {
    "ExecuteTime": {
     "end_time": "2024-11-23T07:14:18.025701Z",
     "start_time": "2024-11-23T07:13:44.322245Z"
    }
   },
   "cell_type": "code",
   "source": [
    "# 用海龟画树\n",
    "t = turtle.Turtle()\n",
    "t.shape('turtle')\n",
    "t.hideturtle()\n",
    "t.width(3)\n",
    "t.color('brown')\n",
    "t.setpos(0, -200)\n",
    "t.left(90)\n",
    "draw_tree_dfs(t, 8, 1, 200)"
   ],
   "id": "c30d0fc49c44325c",
   "outputs": [],
   "execution_count": 83
  },
  {
   "metadata": {},
   "cell_type": "markdown",
   "source": "2. 广度优先（BFS）方式绘制树状结构",
   "id": "f682c205165a1e3a"
  },
  {
   "metadata": {
    "ExecuteTime": {
     "end_time": "2024-11-23T06:59:13.889447Z",
     "start_time": "2024-11-23T06:59:13.877440Z"
    }
   },
   "cell_type": "code",
   "source": [
    "class DrawInfo:\n",
    "    \"\"\"\n",
    "    描述要使用海龟在屏幕上绘制的图像的数据结构。\n",
    "    \"\"\"\n",
    "    \n",
    "    def __init__(self):\n",
    "        self.t: typing.Optional[turtle.Turtle] = None\n",
    "        self.current_depth = 0"
   ],
   "id": "31a9d9877627f513",
   "outputs": [],
   "execution_count": 45
  },
  {
   "metadata": {
    "ExecuteTime": {
     "end_time": "2024-11-23T07:04:05.626163Z",
     "start_time": "2024-11-23T07:04:05.616907Z"
    }
   },
   "cell_type": "code",
   "source": [
    "def draw_tree_bfs(t: turtle.Turtle, td: int, step: int) -> None:\n",
    "    \"\"\"\n",
    "    用海龟绘制分形树状结构（广度优先）。\n",
    "    :param t: \n",
    "    :param td: \n",
    "    :param step: \n",
    "    :return: \n",
    "    \"\"\"\n",
    "    \n",
    "    # 用于暂存将要绘制的各海龟图像信息的队列。\n",
    "    draw_queue: queue.Queue[DrawInfo] = queue.Queue()\n",
    "    \n",
    "    # 构造根节点\n",
    "    info_root = DrawInfo()\n",
    "    info_root.t = t\n",
    "    info_root.current_depth = 1\n",
    "    draw_queue.put(info_root)\n",
    "    \n",
    "    while True:\n",
    "        try:\n",
    "            # 从队列中取得节点并绘制\n",
    "            info = draw_queue.get_nowait()\n",
    "            cs = step / info.current_depth\n",
    "            if info.current_depth == td:\n",
    "                # 若是叶子节点，改用叶子样式\n",
    "                info.t.color('pink')\n",
    "                info.t.showturtle()\n",
    "            info.t.forward(cs)\n",
    "            \n",
    "            # 构造当前节点的子节点并加入队列\n",
    "            # 若该节点已是叶子节点则不构造\n",
    "            if info.current_depth == td:\n",
    "                continue\n",
    "            # 构造左子节点\n",
    "            tl = info.t.clone()\n",
    "            tl.left(40)\n",
    "            infol = DrawInfo()\n",
    "            infol.t = tl\n",
    "            infol.current_depth = info.current_depth + 1\n",
    "            draw_queue.put(infol)\n",
    "            # 构造右子节点\n",
    "            tr = info.t.clone()\n",
    "            tr.right(30)\n",
    "            infor = DrawInfo()\n",
    "            infor.t = tr\n",
    "            infor.current_depth = info.current_depth + 1\n",
    "            draw_queue.put(infor)\n",
    "        except queue.Empty:\n",
    "            # 无剩余需要绘制的节点，退出循环\n",
    "            break"
   ],
   "id": "f75814991de6daf0",
   "outputs": [],
   "execution_count": 67
  },
  {
   "metadata": {
    "ExecuteTime": {
     "end_time": "2024-11-23T07:14:47.092034Z",
     "start_time": "2024-11-23T07:14:47.074509Z"
    }
   },
   "cell_type": "code",
   "source": "turtle.clearscreen()",
   "id": "21f365b8bb42f7b8",
   "outputs": [],
   "execution_count": 84
  },
  {
   "metadata": {
    "ExecuteTime": {
     "end_time": "2024-11-23T07:15:08.176197Z",
     "start_time": "2024-11-23T07:14:47.281158Z"
    }
   },
   "cell_type": "code",
   "source": [
    "# 用海龟画树（广度优先）\n",
    "t = turtle.Turtle()\n",
    "t.speed('normal')\n",
    "t.shape('turtle')\n",
    "t.hideturtle()\n",
    "t.width(3)\n",
    "t.color('brown')\n",
    "t.setpos(0, -200)\n",
    "t.left(90)\n",
    "draw_tree_bfs(t, 8, 200)"
   ],
   "id": "2d4ea2fff3a3353",
   "outputs": [],
   "execution_count": 85
  },
  {
   "metadata": {},
   "cell_type": "code",
   "outputs": [],
   "execution_count": null,
   "source": "",
   "id": "d27c6d7a1a09160e"
  }
 ],
 "metadata": {
  "kernelspec": {
   "display_name": "Python 3",
   "language": "python",
   "name": "python3"
  },
  "language_info": {
   "codemirror_mode": {
    "name": "ipython",
    "version": 2
   },
   "file_extension": ".py",
   "mimetype": "text/x-python",
   "name": "python",
   "nbconvert_exporter": "python",
   "pygments_lexer": "ipython2",
   "version": "2.7.6"
  }
 },
 "nbformat": 4,
 "nbformat_minor": 5
}
