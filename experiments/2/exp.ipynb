{
 "cells": [
  {
   "metadata": {},
   "cell_type": "markdown",
   "source": [
    "# Python 实验3\n",
    "\n",
    "## 海龟制图\n",
    "\n",
    "1. 深度优先（DFS）方式绘制树状结构"
   ],
   "id": "8b37f625e43c4cc2"
  },
  {
   "cell_type": "code",
   "id": "initial_id",
   "metadata": {
    "collapsed": true,
    "ExecuteTime": {
     "end_time": "2024-11-26T11:49:48.578576Z",
     "start_time": "2024-11-26T11:49:48.557510Z"
    }
   },
   "source": [
    "import turtle\n",
    "import queue\n",
    "import typing"
   ],
   "outputs": [],
   "execution_count": 1
  },
  {
   "metadata": {
    "ExecuteTime": {
     "end_time": "2024-11-25T13:59:17.301817Z",
     "start_time": "2024-11-25T13:59:17.299538Z"
    }
   },
   "cell_type": "code",
   "source": [
    "def draw_tree_dfs(t: turtle.Turtle, td: int, cd: int, step: int) -> None:\n",
    "    \"\"\"\n",
    "    用海龟绘制分形树状结构（深度优先）。\n",
    "    :param t: \n",
    "    :param td: \n",
    "    :param cd: \n",
    "    :param step: \n",
    "    :return: \n",
    "    \"\"\"\n",
    "    \n",
    "    cs = step / cd\n",
    "    t.forward(cs)\n",
    "    if cd == td:\n",
    "        return\n",
    "    if cd == td - 1:\n",
    "        t.color('pink')\n",
    "        t.showturtle()\n",
    "    tl = t.clone()\n",
    "    tl.left(40)\n",
    "    draw_tree_dfs(tl, td, cd + 1, step)\n",
    "    tr = t.clone()\n",
    "    tr.right(30)\n",
    "    draw_tree_dfs(tr, td, cd + 1, step)"
   ],
   "id": "195197388fd7dab1",
   "outputs": [],
   "execution_count": 2
  },
  {
   "metadata": {
    "ExecuteTime": {
     "end_time": "2024-11-25T14:04:09.709636Z",
     "start_time": "2024-11-25T14:04:09.664406Z"
    }
   },
   "cell_type": "code",
   "source": [
    "turtle.clearscreen()\n",
    "turtle.speed(0)\n",
    "turtle.delay(0)\n",
    "turtle.tracer(False)\n",
    "turtle.hideturtle()"
   ],
   "id": "d2649db0566c953b",
   "outputs": [],
   "execution_count": 38
  },
  {
   "metadata": {
    "ExecuteTime": {
     "end_time": "2024-11-25T14:04:10.102508Z",
     "start_time": "2024-11-25T14:04:10.009938Z"
    }
   },
   "cell_type": "code",
   "source": [
    "# 用海龟画树\n",
    "t = turtle.Turtle()\n",
    "t.shape('turtle')\n",
    "t.hideturtle()\n",
    "t.width(3)\n",
    "t.color('brown')\n",
    "t.setpos(0, -200)\n",
    "t.left(90)\n",
    "draw_tree_dfs(t, 8, 1, 200)\n",
    "turtle.update()"
   ],
   "id": "c30d0fc49c44325c",
   "outputs": [],
   "execution_count": 39
  },
  {
   "metadata": {},
   "cell_type": "markdown",
   "source": "2. 广度优先（BFS）方式绘制树状结构",
   "id": "f682c205165a1e3a"
  },
  {
   "metadata": {
    "ExecuteTime": {
     "end_time": "2024-11-26T11:49:52.932988Z",
     "start_time": "2024-11-26T11:49:52.931051Z"
    }
   },
   "cell_type": "code",
   "source": [
    "class DrawInfo:\n",
    "    \"\"\"\n",
    "    描述要使用海龟在屏幕上绘制的图像的数据结构。\n",
    "    \"\"\"\n",
    "    \n",
    "    def __init__(self):\n",
    "        self.t: typing.Optional[turtle.Turtle] = None\n",
    "        self.current_depth = 0"
   ],
   "id": "31a9d9877627f513",
   "outputs": [],
   "execution_count": 2
  },
  {
   "metadata": {
    "ExecuteTime": {
     "end_time": "2024-11-26T12:04:36.228055Z",
     "start_time": "2024-11-26T12:04:36.223982Z"
    }
   },
   "cell_type": "code",
   "source": [
    "def draw_node(t: turtle.Turtle, step: float, sw: float, ew: float) -> None:\n",
    "    \"\"\"\n",
    "    绘制给定步长与始端、终端宽度的子节点（树干、树枝或叶子）。\n",
    "    :param t: \n",
    "    :param step:\n",
    "    :param sw: \n",
    "    :param ew: \n",
    "    :return: \n",
    "    \"\"\"\n",
    "    \n",
    "    # Record the beginning position and heading of the turtle.\n",
    "    ps = t.pos()\n",
    "    hs = t.heading()\n",
    "\n",
    "    # Record the four points of the trapezium.\n",
    "    t.penup()\n",
    "    t.left(90)\n",
    "    t.forward(sw / 2)\n",
    "    p0 = t.pos()\n",
    "    t.right(180)\n",
    "    t.forward(sw)\n",
    "    p1 = t.pos()\n",
    "    t.left(180)\n",
    "    t.forward(sw / 2)\n",
    "    t.right(90)\n",
    "    t.forward(step)\n",
    "    t.left(90)\n",
    "    t.forward(ew / 2)\n",
    "    p2 = t.pos()\n",
    "    t.right(180)\n",
    "    t.forward(ew)\n",
    "    p3 = t.pos()\n",
    "    \n",
    "    # Draw the trapezium.\n",
    "    t.goto(*p0)\n",
    "    t.pendown()\n",
    "    t.begin_fill()\n",
    "    t.goto(*p1)\n",
    "    t.goto(*p3)\n",
    "    t.goto(*p2)\n",
    "    t.end_fill()\n",
    "    t.penup()\n",
    "    \n",
    "    # Set the turtle to become the finishing status.\n",
    "    t.goto(*ps)\n",
    "    t.setheading(hs)\n",
    "    t.forward(step)\n",
    "    t.pendown()\n",
    "\n",
    "def draw_tree_bfs(t: turtle.Turtle, td: int, step: int) -> None:\n",
    "    \"\"\"\n",
    "    用海龟绘制分形树状结构（广度优先）。\n",
    "    :param t: \n",
    "    :param td: \n",
    "    :param step: \n",
    "    :return: \n",
    "    \"\"\"\n",
    "    \n",
    "    # 用于暂存将要绘制的各海龟图像信息的队列。\n",
    "    draw_queue: queue.Queue[DrawInfo] = queue.Queue()\n",
    "    \n",
    "    # 构造根节点\n",
    "    info_root = DrawInfo()\n",
    "    info_root.t = t\n",
    "    info_root.current_depth = 1\n",
    "    draw_queue.put(info_root)\n",
    "    \n",
    "    while True:\n",
    "        try:\n",
    "            # 从队列中取得节点并绘制\n",
    "            info = draw_queue.get_nowait()\n",
    "            cs = step / info.current_depth\n",
    "            if info.current_depth == td:\n",
    "                # 若是叶子节点，改用叶子样式\n",
    "                info.t.color('pink')\n",
    "                info.t.showturtle()\n",
    "            sw = 100 / info.current_depth ** 2\n",
    "            ew = 100 / (info.current_depth + 1) ** 2\n",
    "            if sw >= 10:\n",
    "                draw_node(info.t, cs, sw, ew)\n",
    "            else:\n",
    "                info.t.forward(cs)\n",
    "            \n",
    "            # 构造当前节点的子节点并加入队列\n",
    "            # 若该节点已是叶子节点则不构造\n",
    "            if info.current_depth == td:\n",
    "                continue\n",
    "            # 构造左子节点\n",
    "            tl = info.t.clone()\n",
    "            tl.left(40)\n",
    "            infol = DrawInfo()\n",
    "            infol.t = tl\n",
    "            infol.current_depth = info.current_depth + 1\n",
    "            draw_queue.put(infol)\n",
    "            # 构造右子节点\n",
    "            tr = info.t.clone()\n",
    "            tr.right(30)\n",
    "            infor = DrawInfo()\n",
    "            infor.t = tr\n",
    "            infor.current_depth = info.current_depth + 1\n",
    "            draw_queue.put(infor)\n",
    "\n",
    "            turtle.update()\n",
    "        except queue.Empty:\n",
    "            # 无剩余需要绘制的节点，退出循环\n",
    "            break\n",
    "        finally:\n",
    "            turtle.update()"
   ],
   "id": "f75814991de6daf0",
   "outputs": [],
   "execution_count": 50
  },
  {
   "metadata": {
    "ExecuteTime": {
     "end_time": "2024-11-26T12:04:36.854283Z",
     "start_time": "2024-11-26T12:04:36.798958Z"
    }
   },
   "cell_type": "code",
   "source": [
    "turtle.clearscreen()\n",
    "turtle.speed(0)\n",
    "turtle.delay(0)\n",
    "turtle.tracer(False)\n",
    "turtle.hideturtle()"
   ],
   "id": "21f365b8bb42f7b8",
   "outputs": [],
   "execution_count": 51
  },
  {
   "metadata": {
    "ExecuteTime": {
     "end_time": "2024-11-26T12:04:45.513634Z",
     "start_time": "2024-11-26T12:04:38.267649Z"
    }
   },
   "cell_type": "code",
   "source": [
    "# 用海龟画树（广度优先）\n",
    "t = turtle.Turtle()\n",
    "t.speed('normal')\n",
    "t.shape('turtle')\n",
    "t.hideturtle()\n",
    "t.width(10)\n",
    "t.color('brown')\n",
    "t.setpos(0, -300)\n",
    "t.left(90)\n",
    "draw_tree_bfs(t, 10, 300)\n",
    "turtle.update()"
   ],
   "id": "2d4ea2fff3a3353",
   "outputs": [],
   "execution_count": 52
  },
  {
   "metadata": {},
   "cell_type": "code",
   "outputs": [],
   "execution_count": null,
   "source": "",
   "id": "e6d447f14271ac09"
  }
 ],
 "metadata": {
  "kernelspec": {
   "display_name": "Python 3",
   "language": "python",
   "name": "python3"
  },
  "language_info": {
   "codemirror_mode": {
    "name": "ipython",
    "version": 2
   },
   "file_extension": ".py",
   "mimetype": "text/x-python",
   "name": "python",
   "nbconvert_exporter": "python",
   "pygments_lexer": "ipython2",
   "version": "2.7.6"
  }
 },
 "nbformat": 4,
 "nbformat_minor": 5
}
