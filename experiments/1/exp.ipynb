{
 "cells": [
  {
   "cell_type": "markdown",
   "id": "ee8f976a752f457b",
   "metadata": {},
   "source": [
    "# Python 实验2"
   ]
  },
  {
   "cell_type": "markdown",
   "id": "1ca62db63d6eee81",
   "metadata": {},
   "source": [
    "## 自主上机练习：语句和控制流\n",
    "\n",
    "1. 给定$n$，计算$1!+2!+3!+...+n!=\\sum_{i=1}^{n}n!$的值。"
   ]
  },
  {
   "cell_type": "code",
   "execution_count": 1,
   "id": "be28b1b165932640",
   "metadata": {},
   "outputs": [
    {
     "name": "stdin",
     "output_type": "stream",
     "text": [
      "输入n： 10\n"
     ]
    },
    {
     "name": "stdout",
     "output_type": "stream",
     "text": [
      "结果： 4037913\n"
     ]
    }
   ],
   "source": [
    "n = int(input(\"输入n：\"))\n",
    "result = 0\n",
    "for i in range(1, n + 1):\n",
    "    r = 1\n",
    "    for j in range(1, i + 1):\n",
    "        r *= j\n",
    "    result += r\n",
    "print(\"结果：\", result)"
   ]
  },
  {
   "cell_type": "markdown",
   "id": "78a31c804bee82fa",
   "metadata": {},
   "source": [
    "2. 给定$y$和$m$，计算$y$年$m$月有多少天？"
   ]
  },
  {
   "cell_type": "code",
   "execution_count": 2,
   "id": "89d09179fe3582d2",
   "metadata": {},
   "outputs": [
    {
     "name": "stdin",
     "output_type": "stream",
     "text": [
      "请输入年份： 2024\n",
      "请输入月份： 12\n"
     ]
    },
    {
     "name": "stdout",
     "output_type": "stream",
     "text": [
      "2024年12月有31天\n"
     ]
    }
   ],
   "source": [
    "# 闰年的定义：对于整百年，是400倍数的为闰年；否则是4的倍数的话为闰年。\n",
    "\n",
    "def is_leap_year(year):\n",
    "    return (year % 100 == 0 and year % 400 == 0) or (year % 100 != 0 and year % 4 == 0)\n",
    "\n",
    "y = int(input(\"请输入年份：\"))\n",
    "m = int(input(\"请输入月份：\"))\n",
    "d = 0\n",
    "match m:\n",
    "    case 2:\n",
    "        d = 29 if is_leap_year(y) else 28\n",
    "    case x if x <= 7:\n",
    "        d = 30 if m % 2 == 0 else 31\n",
    "    case _:\n",
    "        d = 31 if m % 2 == 0 else 30\n",
    "print(f\"{y}年{m}月有{d}天\")"
   ]
  },
  {
   "cell_type": "markdown",
   "id": "b7c9b7ef7ec691e4",
   "metadata": {},
   "source": [
    "3. 给定字符串`s`和数字`n`，打印把字符串`s`向右移动`n`位的新字符串。"
   ]
  },
  {
   "cell_type": "code",
   "execution_count": 4,
   "id": "7c01ca2cf0e99407",
   "metadata": {},
   "outputs": [
    {
     "name": "stdin",
     "output_type": "stream",
     "text": [
      "给定字符串s： hello,world\n",
      "给定数字n： 10\n"
     ]
    },
    {
     "name": "stdout",
     "output_type": "stream",
     "text": [
      "结果：\"          hello,world\"\n"
     ]
    }
   ],
   "source": [
    "s = input(\"给定字符串s：\")\n",
    "n = int(input(\"给定数字n：\"))\n",
    "s = ' ' * n + s\n",
    "print(f'结果：\"{s}\"')"
   ]
  },
  {
   "cell_type": "markdown",
   "id": "7a2b9ba7aa33115e",
   "metadata": {},
   "source": [
    "4. 给定一个英文数字字符串，打印相应阿拉伯数字字符串。"
   ]
  },
  {
   "cell_type": "code",
   "execution_count": 5,
   "id": "26d78e9b7b33338e",
   "metadata": {},
   "outputs": [
    {
     "name": "stdin",
     "output_type": "stream",
     "text": [
      "给定英文数字字符串： one-four-five-nine\n"
     ]
    },
    {
     "name": "stdout",
     "output_type": "stream",
     "text": [
      "结果：1459\n"
     ]
    }
   ],
   "source": [
    "# 样例输入：one-four-five-nine\n",
    "# 样例输出：1459\n",
    "\n",
    "s = input(\"给定英文数字字符串：\")\n",
    "# digit dict\n",
    "dd = {\n",
    "    'one': 1,\n",
    "    'two': 2,\n",
    "    'three': 3,\n",
    "    'four': 4,\n",
    "    'five': 5,\n",
    "    'six': 6,\n",
    "    'seven': 7,\n",
    "    'eight': 8,\n",
    "    'nine': 9\n",
    "}\n",
    "n = 0\n",
    "for d in s.split('-'):\n",
    "    n *= 10\n",
    "    n += dd[d]\n",
    "print(f\"结果：{n}\")"
   ]
  },
  {
   "cell_type": "markdown",
   "id": "b30316fc05e96fd7",
   "metadata": {},
   "source": [
    "## 自主上机练习：函数的定义\n",
    "\n",
    "1. 水仙花数判定：创建一个函数，接受一个参数n（$n\\ge 100$），判断这个数是否为水仙花数。\n",
    "\n",
    "    即满足如果这个数为$m$位数，则每个位上的数字的$m$次幂之和等于它本身，例如$1^3+5^3+3^3=153$，$1^4+6^4+3^4+4^4=1634$，返回`True`或`False`。"
   ]
  },
  {
   "cell_type": "code",
   "execution_count": 6,
   "id": "initial_id",
   "metadata": {},
   "outputs": [
    {
     "name": "stdin",
     "output_type": "stream",
     "text": [
      "请输入数字： 1634\n"
     ]
    },
    {
     "name": "stdout",
     "output_type": "stream",
     "text": [
      "1634是水仙花数\n"
     ]
    }
   ],
   "source": [
    "def is_lily_num(s: str) -> bool:\n",
    "    \"\"\"\n",
    "    判断一个数是否为水仙花数。\n",
    "    :param s: 要判断的数。\n",
    "    :return: 该数是否为水仙花数。\n",
    "    \"\"\"\n",
    "    \n",
    "    res = 0\n",
    "    for d in s:\n",
    "        di = int(d)\n",
    "        res += di ** len(s)\n",
    "    return res == int(s)\n",
    "\n",
    "s = input(\"请输入数字：\")\n",
    "print(f\"{s}是水仙花数\" if is_lily_num(s) else f\"{s}不是水仙花数\")"
   ]
  },
  {
   "cell_type": "markdown",
   "id": "2725b420a901621e",
   "metadata": {},
   "source": [
    "2. 创建一个函数，接受一个参数`max`（$max \\ge 1000$），调用上题编写的判断函数，求100到max之间的水仙花数。"
   ]
  },
  {
   "cell_type": "code",
   "execution_count": 7,
   "id": "98497be60c2b3c80",
   "metadata": {},
   "outputs": [
    {
     "name": "stdin",
     "output_type": "stream",
     "text": [
      "请输入max： 100000\n"
     ]
    },
    {
     "name": "stdout",
     "output_type": "stream",
     "text": [
      "100到max之间的所有水仙花数： [153, 370, 371, 407, 1634, 8208, 9474, 54748, 92727, 93084]\n"
     ]
    }
   ],
   "source": [
    "def calc_lily_nums(s: int, e: int) -> list[int]:\n",
    "    \"\"\"\n",
    "    计算闭区间 [s, e] 内的所有水仙花数。\n",
    "    :param s: 区间左端点。\n",
    "    :param e: 区间右端点。\n",
    "    :return: 闭区间 [s, e] 内的所有水仙花数，以列表形式返回。\n",
    "    \"\"\"\n",
    "    \n",
    "    res = []\n",
    "    for i in range(s, e + 1):\n",
    "        if is_lily_num(str(i)):\n",
    "            res.append(i)\n",
    "    return res\n",
    "\n",
    "max = input(\"请输入max：\")\n",
    "print(\"100到max之间的所有水仙花数：\", calc_lily_nums(100, int(max)))"
   ]
  },
  {
   "cell_type": "markdown",
   "id": "931fcf889591ff32",
   "metadata": {},
   "source": [
    "3. 创建一个函数，接受两个字符串作为参数，返回两个字符串字符集合的并集。\n",
    "\n",
    "    如接受的两个字符串为`\"abc\"`和`\"bcd\"`，返回`set(['a', 'b', 'c', 'd'])`。"
   ]
  },
  {
   "cell_type": "code",
   "execution_count": 8,
   "id": "37e09fd9b63b5468",
   "metadata": {},
   "outputs": [
    {
     "name": "stdin",
     "output_type": "stream",
     "text": [
      "请输入第一个字符串： abc\n",
      "请输入第二个字符串： bcd\n"
     ]
    },
    {
     "name": "stdout",
     "output_type": "stream",
     "text": [
      "结果： cabd\n"
     ]
    }
   ],
   "source": [
    "def str_union(a: str, b: str) -> str:\n",
    "    \"\"\"\n",
    "    接受两个字符串，返回两个字符串字符集合的并集。\n",
    "    :param a: 第一个字符串。\n",
    "    :param b: 第二个字符串。\n",
    "    :return: 两个字符串字符集合的并集。\n",
    "    \"\"\"\n",
    "    \n",
    "    return ''.join(list(set(list(a)) | set(list(b))))\n",
    "\n",
    "a = input(\"请输入第一个字符串：\")\n",
    "b = input(\"请输入第二个字符串：\")\n",
    "print(\"结果：\", str_union(a, b))"
   ]
  },
  {
   "cell_type": "code",
   "execution_count": null,
   "id": "be525057-1a7a-4ccd-a99f-edebef8d2030",
   "metadata": {},
   "outputs": [],
   "source": []
  }
 ],
 "metadata": {
  "kernelspec": {
   "display_name": "Python 3 (ipykernel)",
   "language": "python",
   "name": "python3"
  },
  "language_info": {
   "codemirror_mode": {
    "name": "ipython",
    "version": 3
   },
   "file_extension": ".py",
   "mimetype": "text/x-python",
   "name": "python",
   "nbconvert_exporter": "python",
   "pygments_lexer": "ipython3",
   "version": "3.12.3"
  }
 },
 "nbformat": 4,
 "nbformat_minor": 5
}
