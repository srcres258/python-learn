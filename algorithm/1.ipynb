{
 "cells": [
  {
   "metadata": {
    "ExecuteTime": {
     "end_time": "2024-11-16T00:58:19.229955Z",
     "start_time": "2024-11-16T00:58:19.226407Z"
    }
   },
   "cell_type": "code",
   "source": [
    "import sys\n",
    "import math"
   ],
   "id": "ebbfc5411486d14a",
   "outputs": [],
   "execution_count": 2
  },
  {
   "cell_type": "code",
   "id": "initial_id",
   "metadata": {
    "collapsed": true,
    "ExecuteTime": {
     "end_time": "2024-11-16T00:58:20.076414Z",
     "start_time": "2024-11-16T00:58:20.066181Z"
    }
   },
   "source": [
    "def merge(A, p, q, r):\n",
    "    n1 = q - p + 1\n",
    "    n2 = r - q\n",
    "    L = [0 for _ in range(n1 + 1)]\n",
    "    R = [0 for _ in range(n2 + 1)]\n",
    "    for i in range(n1):\n",
    "        L[i] = A[p + i]\n",
    "    for j in range(n2):\n",
    "        R[j] = A[q + j + 1]\n",
    "    L[n1] = sys.maxsize\n",
    "    R[n2] = sys.maxsize\n",
    "    i = 0\n",
    "    j = 0\n",
    "    for k in range(p, r + 1):\n",
    "        if L[i] <= R[j]:\n",
    "            A[k] = L[i]\n",
    "            i += 1\n",
    "        else:\n",
    "            A[k] = R[j]\n",
    "            j += 1"
   ],
   "outputs": [],
   "execution_count": 3
  },
  {
   "metadata": {
    "ExecuteTime": {
     "end_time": "2024-11-16T00:38:49.949767Z",
     "start_time": "2024-11-16T00:38:49.943266Z"
    }
   },
   "cell_type": "code",
   "source": [
    "A = [6, 7, 8, 9, 10, 1, 2, 3, 4, 5]\n",
    "A"
   ],
   "id": "d71f6da3b82671af",
   "outputs": [
    {
     "data": {
      "text/plain": [
       "[6, 7, 8, 9, 10, 1, 2, 3, 4, 5]"
      ]
     },
     "execution_count": 20,
     "metadata": {},
     "output_type": "execute_result"
    }
   ],
   "execution_count": 20
  },
  {
   "metadata": {
    "ExecuteTime": {
     "end_time": "2024-11-16T00:38:50.527046Z",
     "start_time": "2024-11-16T00:38:50.520768Z"
    }
   },
   "cell_type": "code",
   "source": [
    "merge(A, 0, 4, 9)\n",
    "A"
   ],
   "id": "1e96624c94cf708f",
   "outputs": [
    {
     "name": "stdout",
     "output_type": "stream",
     "text": [
      "L: [6, 7, 8, 9, 10, 9223372036854775807]\n",
      "R: [1, 2, 3, 4, 5, 9223372036854775807]\n"
     ]
    },
    {
     "data": {
      "text/plain": [
       "[1, 2, 3, 4, 5, 6, 7, 8, 9, 10]"
      ]
     },
     "execution_count": 21,
     "metadata": {},
     "output_type": "execute_result"
    }
   ],
   "execution_count": 21
  },
  {
   "metadata": {
    "ExecuteTime": {
     "end_time": "2024-11-16T00:58:14.591130Z",
     "start_time": "2024-11-16T00:58:14.587145Z"
    }
   },
   "cell_type": "code",
   "source": [
    "def merge_sort(A, p, r):\n",
    "    if p < r:\n",
    "        q = math.floor((p + r) / 2.0)\n",
    "        merge_sort(A, p, q)\n",
    "        merge_sort(A, q + 1, r)\n",
    "        merge(A, p, q, r)"
   ],
   "id": "5720db0a108821bd",
   "outputs": [],
   "execution_count": 1
  },
  {
   "metadata": {
    "ExecuteTime": {
     "end_time": "2024-11-16T00:58:53.863117Z",
     "start_time": "2024-11-16T00:58:53.852470Z"
    }
   },
   "cell_type": "code",
   "source": [
    "A = list(range(10, 0, -1))\n",
    "A"
   ],
   "id": "8cf22ef41e8c964",
   "outputs": [
    {
     "data": {
      "text/plain": [
       "[10, 9, 8, 7, 6, 5, 4, 3, 2, 1]"
      ]
     },
     "execution_count": 4,
     "metadata": {},
     "output_type": "execute_result"
    }
   ],
   "execution_count": 4
  },
  {
   "metadata": {
    "ExecuteTime": {
     "end_time": "2024-11-16T00:59:34.645887Z",
     "start_time": "2024-11-16T00:59:34.642134Z"
    }
   },
   "cell_type": "code",
   "source": [
    "merge_sort(A, 0, len(A) - 1)\n",
    "A"
   ],
   "id": "e7775c0c80bc85c2",
   "outputs": [
    {
     "data": {
      "text/plain": [
       "[1, 2, 3, 4, 5, 6, 7, 8, 9, 10]"
      ]
     },
     "execution_count": 5,
     "metadata": {},
     "output_type": "execute_result"
    }
   ],
   "execution_count": 5
  },
  {
   "metadata": {
    "ExecuteTime": {
     "end_time": "2024-11-16T01:00:39.678913Z",
     "start_time": "2024-11-16T01:00:39.669807Z"
    }
   },
   "cell_type": "code",
   "source": [
    "def insertion_sort(A):\n",
    "    for j in range(1, len(A)):\n",
    "        key = A[j]\n",
    "        i = j - 1\n",
    "        while i >= 0 and A[i] > key:\n",
    "            A[i + 1] = A[i]\n",
    "            i = i - 1\n",
    "        A[i + 1] = key\n",
    "\n",
    "def selection_sort(A):\n",
    "    for i in range(len(A)):\n",
    "        min_idx = i\n",
    "        for j in range(i + 1, len(A)):\n",
    "            if A[j] < A[min_idx]:\n",
    "                min_idx = j\n",
    "        tmp = A[i]\n",
    "        A[i] = A[min_idx]\n",
    "        A[min_idx] = tmp"
   ],
   "id": "259e3625281efe51",
   "outputs": [],
   "execution_count": 6
  },
  {
   "metadata": {
    "ExecuteTime": {
     "end_time": "2024-11-16T01:02:43.549612Z",
     "start_time": "2024-11-16T01:02:27.296927Z"
    }
   },
   "cell_type": "code",
   "source": [
    "A = list(range(20000, 0, -1))\n",
    "insertion_sort(A)\n",
    "A[:20]"
   ],
   "id": "c3c0762cb4296c77",
   "outputs": [
    {
     "data": {
      "text/plain": [
       "[1, 2, 3, 4, 5, 6, 7, 8, 9, 10, 11, 12, 13, 14, 15, 16, 17, 18, 19, 20]"
      ]
     },
     "execution_count": 11,
     "metadata": {},
     "output_type": "execute_result"
    }
   ],
   "execution_count": 11
  },
  {
   "metadata": {
    "ExecuteTime": {
     "end_time": "2024-11-16T01:02:51.665704Z",
     "start_time": "2024-11-16T01:02:43.663664Z"
    }
   },
   "cell_type": "code",
   "source": [
    "A = list(range(20000, 0, -1))\n",
    "selection_sort(A)\n",
    "A[:20]"
   ],
   "id": "ff0b44427ba7ac0",
   "outputs": [
    {
     "data": {
      "text/plain": [
       "[1, 2, 3, 4, 5, 6, 7, 8, 9, 10, 11, 12, 13, 14, 15, 16, 17, 18, 19, 20]"
      ]
     },
     "execution_count": 12,
     "metadata": {},
     "output_type": "execute_result"
    }
   ],
   "execution_count": 12
  },
  {
   "metadata": {
    "ExecuteTime": {
     "end_time": "2024-11-16T01:02:51.849694Z",
     "start_time": "2024-11-16T01:02:51.766449Z"
    }
   },
   "cell_type": "code",
   "source": [
    "A = list(range(20000, 0, -1))\n",
    "merge_sort(A, 0, len(A) - 1)\n",
    "A[:20]"
   ],
   "id": "6204d44c51f423cb",
   "outputs": [
    {
     "data": {
      "text/plain": [
       "[1, 2, 3, 4, 5, 6, 7, 8, 9, 10, 11, 12, 13, 14, 15, 16, 17, 18, 19, 20]"
      ]
     },
     "execution_count": 13,
     "metadata": {},
     "output_type": "execute_result"
    }
   ],
   "execution_count": 13
  },
  {
   "metadata": {
    "ExecuteTime": {
     "end_time": "2024-11-16T01:16:22.408502Z",
     "start_time": "2024-11-16T01:16:22.404082Z"
    }
   },
   "cell_type": "code",
   "source": [
    "def bubble_sort(A):\n",
    "    for i in range(len(A)):\n",
    "        for j in range(len(A) - 1, i, -1):\n",
    "            if A[j] < A[j - 1]:\n",
    "                tmp = A[j]\n",
    "                A[j] = A[j - 1]\n",
    "                A[j - 1] = tmp"
   ],
   "id": "8bedb35fb6ecf4d7",
   "outputs": [],
   "execution_count": 14
  },
  {
   "metadata": {
    "ExecuteTime": {
     "end_time": "2024-11-16T01:17:10.084839Z",
     "start_time": "2024-11-16T01:16:46.222468Z"
    }
   },
   "cell_type": "code",
   "source": [
    "A = list(range(20000, 0, -1))\n",
    "bubble_sort(A)\n",
    "A[:20]"
   ],
   "id": "e6edd0fbce1d8271",
   "outputs": [
    {
     "data": {
      "text/plain": [
       "[1, 2, 3, 4, 5, 6, 7, 8, 9, 10, 11, 12, 13, 14, 15, 16, 17, 18, 19, 20]"
      ]
     },
     "execution_count": 15,
     "metadata": {},
     "output_type": "execute_result"
    }
   ],
   "execution_count": 15
  },
  {
   "metadata": {},
   "cell_type": "code",
   "outputs": [],
   "execution_count": null,
   "source": "",
   "id": "f5aa80f4588db48d"
  }
 ],
 "metadata": {
  "kernelspec": {
   "display_name": "Python 3",
   "language": "python",
   "name": "python3"
  },
  "language_info": {
   "codemirror_mode": {
    "name": "ipython",
    "version": 2
   },
   "file_extension": ".py",
   "mimetype": "text/x-python",
   "name": "python",
   "nbconvert_exporter": "python",
   "pygments_lexer": "ipython2",
   "version": "2.7.6"
  }
 },
 "nbformat": 4,
 "nbformat_minor": 5
}
