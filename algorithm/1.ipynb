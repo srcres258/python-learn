{
 "cells": [
  {
   "metadata": {
    "ExecuteTime": {
     "end_time": "2024-11-23T01:01:25.173465Z",
     "start_time": "2024-11-23T01:01:25.170119Z"
    }
   },
   "cell_type": "code",
   "source": [
    "import sys\n",
    "import math"
   ],
   "id": "ebbfc5411486d14a",
   "outputs": [],
   "execution_count": 1
  },
  {
   "cell_type": "code",
   "id": "initial_id",
   "metadata": {
    "collapsed": true,
    "ExecuteTime": {
     "end_time": "2024-11-16T00:58:20.076414Z",
     "start_time": "2024-11-16T00:58:20.066181Z"
    }
   },
   "source": [
    "def merge(A, p, q, r):\n",
    "    n1 = q - p + 1\n",
    "    n2 = r - q\n",
    "    L = [0 for _ in range(n1 + 1)]\n",
    "    R = [0 for _ in range(n2 + 1)]\n",
    "    for i in range(n1):\n",
    "        L[i] = A[p + i]\n",
    "    for j in range(n2):\n",
    "        R[j] = A[q + j + 1]\n",
    "    L[n1] = sys.maxsize\n",
    "    R[n2] = sys.maxsize\n",
    "    i = 0\n",
    "    j = 0\n",
    "    for k in range(p, r + 1):\n",
    "        if L[i] <= R[j]:\n",
    "            A[k] = L[i]\n",
    "            i += 1\n",
    "        else:\n",
    "            A[k] = R[j]\n",
    "            j += 1"
   ],
   "outputs": [],
   "execution_count": 3
  },
  {
   "metadata": {
    "ExecuteTime": {
     "end_time": "2024-11-16T00:38:49.949767Z",
     "start_time": "2024-11-16T00:38:49.943266Z"
    }
   },
   "cell_type": "code",
   "source": [
    "A = [6, 7, 8, 9, 10, 1, 2, 3, 4, 5]\n",
    "A"
   ],
   "id": "d71f6da3b82671af",
   "outputs": [
    {
     "data": {
      "text/plain": [
       "[6, 7, 8, 9, 10, 1, 2, 3, 4, 5]"
      ]
     },
     "execution_count": 20,
     "metadata": {},
     "output_type": "execute_result"
    }
   ],
   "execution_count": 20
  },
  {
   "metadata": {
    "ExecuteTime": {
     "end_time": "2024-11-16T00:38:50.527046Z",
     "start_time": "2024-11-16T00:38:50.520768Z"
    }
   },
   "cell_type": "code",
   "source": [
    "merge(A, 0, 4, 9)\n",
    "A"
   ],
   "id": "1e96624c94cf708f",
   "outputs": [
    {
     "name": "stdout",
     "output_type": "stream",
     "text": [
      "L: [6, 7, 8, 9, 10, 9223372036854775807]\n",
      "R: [1, 2, 3, 4, 5, 9223372036854775807]\n"
     ]
    },
    {
     "data": {
      "text/plain": [
       "[1, 2, 3, 4, 5, 6, 7, 8, 9, 10]"
      ]
     },
     "execution_count": 21,
     "metadata": {},
     "output_type": "execute_result"
    }
   ],
   "execution_count": 21
  },
  {
   "metadata": {
    "ExecuteTime": {
     "end_time": "2024-11-16T00:58:14.591130Z",
     "start_time": "2024-11-16T00:58:14.587145Z"
    }
   },
   "cell_type": "code",
   "source": [
    "def merge_sort(A, p, r):\n",
    "    if p < r:\n",
    "        q = math.floor((p + r) / 2.0)\n",
    "        merge_sort(A, p, q)\n",
    "        merge_sort(A, q + 1, r)\n",
    "        merge(A, p, q, r)"
   ],
   "id": "5720db0a108821bd",
   "outputs": [],
   "execution_count": 1
  },
  {
   "metadata": {
    "ExecuteTime": {
     "end_time": "2024-11-16T00:58:53.863117Z",
     "start_time": "2024-11-16T00:58:53.852470Z"
    }
   },
   "cell_type": "code",
   "source": [
    "A = list(range(10, 0, -1))\n",
    "A"
   ],
   "id": "8cf22ef41e8c964",
   "outputs": [
    {
     "data": {
      "text/plain": [
       "[10, 9, 8, 7, 6, 5, 4, 3, 2, 1]"
      ]
     },
     "execution_count": 4,
     "metadata": {},
     "output_type": "execute_result"
    }
   ],
   "execution_count": 4
  },
  {
   "metadata": {
    "ExecuteTime": {
     "end_time": "2024-11-16T00:59:34.645887Z",
     "start_time": "2024-11-16T00:59:34.642134Z"
    }
   },
   "cell_type": "code",
   "source": [
    "merge_sort(A, 0, len(A) - 1)\n",
    "A"
   ],
   "id": "e7775c0c80bc85c2",
   "outputs": [
    {
     "data": {
      "text/plain": [
       "[1, 2, 3, 4, 5, 6, 7, 8, 9, 10]"
      ]
     },
     "execution_count": 5,
     "metadata": {},
     "output_type": "execute_result"
    }
   ],
   "execution_count": 5
  },
  {
   "metadata": {
    "ExecuteTime": {
     "end_time": "2024-11-16T01:00:39.678913Z",
     "start_time": "2024-11-16T01:00:39.669807Z"
    }
   },
   "cell_type": "code",
   "source": [
    "def insertion_sort(A):\n",
    "    for j in range(1, len(A)):\n",
    "        key = A[j]\n",
    "        i = j - 1\n",
    "        while i >= 0 and A[i] > key:\n",
    "            A[i + 1] = A[i]\n",
    "            i = i - 1\n",
    "        A[i + 1] = key\n",
    "\n",
    "def selection_sort(A):\n",
    "    for i in range(len(A)):\n",
    "        min_idx = i\n",
    "        for j in range(i + 1, len(A)):\n",
    "            if A[j] < A[min_idx]:\n",
    "                min_idx = j\n",
    "        tmp = A[i]\n",
    "        A[i] = A[min_idx]\n",
    "        A[min_idx] = tmp"
   ],
   "id": "259e3625281efe51",
   "outputs": [],
   "execution_count": 6
  },
  {
   "metadata": {
    "ExecuteTime": {
     "end_time": "2024-11-16T01:02:43.549612Z",
     "start_time": "2024-11-16T01:02:27.296927Z"
    }
   },
   "cell_type": "code",
   "source": [
    "A = list(range(20000, 0, -1))\n",
    "insertion_sort(A)\n",
    "A[:20]"
   ],
   "id": "c3c0762cb4296c77",
   "outputs": [
    {
     "data": {
      "text/plain": [
       "[1, 2, 3, 4, 5, 6, 7, 8, 9, 10, 11, 12, 13, 14, 15, 16, 17, 18, 19, 20]"
      ]
     },
     "execution_count": 11,
     "metadata": {},
     "output_type": "execute_result"
    }
   ],
   "execution_count": 11
  },
  {
   "metadata": {
    "ExecuteTime": {
     "end_time": "2024-11-16T01:02:51.665704Z",
     "start_time": "2024-11-16T01:02:43.663664Z"
    }
   },
   "cell_type": "code",
   "source": [
    "A = list(range(20000, 0, -1))\n",
    "selection_sort(A)\n",
    "A[:20]"
   ],
   "id": "ff0b44427ba7ac0",
   "outputs": [
    {
     "data": {
      "text/plain": [
       "[1, 2, 3, 4, 5, 6, 7, 8, 9, 10, 11, 12, 13, 14, 15, 16, 17, 18, 19, 20]"
      ]
     },
     "execution_count": 12,
     "metadata": {},
     "output_type": "execute_result"
    }
   ],
   "execution_count": 12
  },
  {
   "metadata": {
    "ExecuteTime": {
     "end_time": "2024-11-16T01:02:51.849694Z",
     "start_time": "2024-11-16T01:02:51.766449Z"
    }
   },
   "cell_type": "code",
   "source": [
    "A = list(range(20000, 0, -1))\n",
    "merge_sort(A, 0, len(A) - 1)\n",
    "A[:20]"
   ],
   "id": "6204d44c51f423cb",
   "outputs": [
    {
     "data": {
      "text/plain": [
       "[1, 2, 3, 4, 5, 6, 7, 8, 9, 10, 11, 12, 13, 14, 15, 16, 17, 18, 19, 20]"
      ]
     },
     "execution_count": 13,
     "metadata": {},
     "output_type": "execute_result"
    }
   ],
   "execution_count": 13
  },
  {
   "metadata": {
    "ExecuteTime": {
     "end_time": "2024-11-16T01:16:22.408502Z",
     "start_time": "2024-11-16T01:16:22.404082Z"
    }
   },
   "cell_type": "code",
   "source": [
    "def bubble_sort(A):\n",
    "    for i in range(len(A)):\n",
    "        for j in range(len(A) - 1, i, -1):\n",
    "            if A[j] < A[j - 1]:\n",
    "                tmp = A[j]\n",
    "                A[j] = A[j - 1]\n",
    "                A[j - 1] = tmp"
   ],
   "id": "8bedb35fb6ecf4d7",
   "outputs": [],
   "execution_count": 14
  },
  {
   "metadata": {
    "ExecuteTime": {
     "end_time": "2024-11-16T01:17:10.084839Z",
     "start_time": "2024-11-16T01:16:46.222468Z"
    }
   },
   "cell_type": "code",
   "source": [
    "A = list(range(20000, 0, -1))\n",
    "bubble_sort(A)\n",
    "A[:20]"
   ],
   "id": "e6edd0fbce1d8271",
   "outputs": [
    {
     "data": {
      "text/plain": [
       "[1, 2, 3, 4, 5, 6, 7, 8, 9, 10, 11, 12, 13, 14, 15, 16, 17, 18, 19, 20]"
      ]
     },
     "execution_count": 15,
     "metadata": {},
     "output_type": "execute_result"
    }
   ],
   "execution_count": 15
  },
  {
   "metadata": {},
   "cell_type": "markdown",
   "source": "## 堆排序",
   "id": "26be2978d8f4ea3e"
  },
  {
   "metadata": {
    "ExecuteTime": {
     "end_time": "2024-11-23T01:31:05.725853Z",
     "start_time": "2024-11-23T01:31:05.698751Z"
    }
   },
   "cell_type": "code",
   "source": [
    "# 堆排序\n",
    "\n",
    "def parent(i):\n",
    "    \"\"\"\n",
    "    父节点索引\n",
    "    :param i: \n",
    "    :return: \n",
    "    \"\"\"\n",
    "    \n",
    "    return math.floor((i + 1) / 2) - 1\n",
    "\n",
    "def left(i):\n",
    "    \"\"\"\n",
    "    左子节点索引\n",
    "    :param i: \n",
    "    :return: \n",
    "    \"\"\"\n",
    "    \n",
    "    return 2 * i + 1\n",
    "\n",
    "def right(i):\n",
    "    \"\"\"\n",
    "    右子节点索引\n",
    "    :param i: \n",
    "    :return: \n",
    "    \"\"\"\n",
    "    \n",
    "    return 2 * i + 2\n",
    "\n",
    "class Heap:\n",
    "    \"\"\"\n",
    "    堆（数据结构）\n",
    "    \"\"\"\n",
    "    \n",
    "    def __init__(self):\n",
    "        self.data = []\n",
    "        self.heap_size = 0\n",
    "        \n",
    "def max_heapify(A, i):\n",
    "    \"\"\"\n",
    "    维护最大堆的性质\n",
    "    :param A: \n",
    "    :param i: \n",
    "    :return: \n",
    "    \"\"\"\n",
    "    \n",
    "    l = left(i)\n",
    "    r = right(i)\n",
    "    if l < A.heap_size and A.data[l] > A.data[i]:\n",
    "        largest = l\n",
    "    else:\n",
    "        largest = i\n",
    "    if r < A.heap_size and A.data[r] > A.data[largest]:\n",
    "        largest = r\n",
    "    if largest != i:\n",
    "        # exchange A[i] with A[largest]\n",
    "        tmp = A.data[i]\n",
    "        A.data[i] = A.data[largest]\n",
    "        A.data[largest] = tmp\n",
    "        \n",
    "        max_heapify(A, largest)\n",
    "\n",
    "def build_max_heap(A):\n",
    "    \"\"\"\n",
    "    构建最大堆\n",
    "    :param A: \n",
    "    :return: \n",
    "    \"\"\"\n",
    "    \n",
    "    A.heap_size = len(A.data)\n",
    "    for i in range(math.floor(len(A.data) / 2) - 1, -1, -1):\n",
    "        max_heapify(A, i)\n",
    "\n",
    "def heapsort(A):\n",
    "    \"\"\"\n",
    "    堆排序（输出顺序：从小到大）\n",
    "    :param A: \n",
    "    :return: \n",
    "    \"\"\"\n",
    "    \n",
    "    build_max_heap(A)\n",
    "    for i in range(len(A.data) - 1, -1, -1):\n",
    "        # exchange A[0] with A[i]\n",
    "        tmp = A.data[0]\n",
    "        A.data[0] = A.data[i]\n",
    "        A.data[i] = tmp\n",
    "        \n",
    "        A.heap_size -= 1\n",
    "        max_heapify(A, 0)"
   ],
   "id": "4e86713ecfa28575",
   "outputs": [],
   "execution_count": 17
  },
  {
   "metadata": {
    "ExecuteTime": {
     "end_time": "2024-11-23T01:31:16.414964Z",
     "start_time": "2024-11-23T01:31:16.410977Z"
    }
   },
   "cell_type": "code",
   "source": [
    "data = [1, 4, 2, 8, 5, 7]\n",
    "print(data)\n",
    "A = Heap()\n",
    "A.data = data\n",
    "heapsort(A)\n",
    "print(data)"
   ],
   "id": "1b224b5d16a310b3",
   "outputs": [
    {
     "name": "stdout",
     "output_type": "stream",
     "text": [
      "[1, 4, 2, 8, 5, 7]\n",
      "[1, 2, 4, 5, 7, 8]\n"
     ]
    }
   ],
   "execution_count": 19
  },
  {
   "metadata": {},
   "cell_type": "markdown",
   "source": "## 快速排序",
   "id": "1fc513a9cf5fe8d2"
  },
  {
   "metadata": {
    "ExecuteTime": {
     "end_time": "2024-11-23T01:01:27.243782Z",
     "start_time": "2024-11-23T01:01:27.236350Z"
    }
   },
   "cell_type": "code",
   "source": [
    "# 快速排序\n",
    "\n",
    "def partition(A, p, r):\n",
    "    \"\"\"\n",
    "    数组的划分\n",
    "    :param A: \n",
    "    :param p: \n",
    "    :param r: \n",
    "    :return: \n",
    "    \"\"\"\n",
    "    \n",
    "    x = A[r]\n",
    "    i = p - 1\n",
    "    for j in range(p, r):\n",
    "        if A[j] <= x:\n",
    "            i += 1\n",
    "            \n",
    "            # exchange A[i] with A[j]\n",
    "            tmp = A[i]\n",
    "            A[i] = A[j]\n",
    "            A[j] = tmp\n",
    "    \n",
    "    # exchange A[i+1] with A[r]\n",
    "    tmp = A[i + 1]\n",
    "    A[i + 1] = A[r]\n",
    "    A[r] = tmp\n",
    "    \n",
    "    return i + 1\n",
    "\n",
    "def quicksort(A, p, r):\n",
    "    \"\"\"\n",
    "    快速排序\n",
    "    :param A: \n",
    "    :param p: \n",
    "    :param r: \n",
    "    :return: \n",
    "    \"\"\"\n",
    "    \n",
    "    if p < r:\n",
    "        q = partition(A, p, r)\n",
    "        quicksort(A, p, q - 1)\n",
    "        quicksort(A, q + 1, r)"
   ],
   "id": "f5aa80f4588db48d",
   "outputs": [],
   "execution_count": 2
  },
  {
   "metadata": {
    "ExecuteTime": {
     "end_time": "2024-11-23T01:01:28.285243Z",
     "start_time": "2024-11-23T01:01:28.273027Z"
    }
   },
   "cell_type": "code",
   "source": [
    "A = [1, 4, 2, 8, 5, 7]\n",
    "print(A)\n",
    "quicksort(A, 0, len(A) - 1)\n",
    "print(A)"
   ],
   "id": "7926d4c28ef2601d",
   "outputs": [
    {
     "name": "stdout",
     "output_type": "stream",
     "text": [
      "[1, 4, 2, 8, 5, 7]\n",
      "[1, 2, 4, 5, 7, 8]\n"
     ]
    }
   ],
   "execution_count": 3
  },
  {
   "metadata": {},
   "cell_type": "code",
   "outputs": [],
   "execution_count": null,
   "source": "",
   "id": "e5439f19855ca07"
  }
 ],
 "metadata": {
  "kernelspec": {
   "display_name": "Python 3",
   "language": "python",
   "name": "python3"
  },
  "language_info": {
   "codemirror_mode": {
    "name": "ipython",
    "version": 2
   },
   "file_extension": ".py",
   "mimetype": "text/x-python",
   "name": "python",
   "nbconvert_exporter": "python",
   "pygments_lexer": "ipython2",
   "version": "2.7.6"
  }
 },
 "nbformat": 4,
 "nbformat_minor": 5
}
