{
 "cells": [
  {
   "cell_type": "code",
   "id": "initial_id",
   "metadata": {
    "collapsed": true,
    "ExecuteTime": {
     "end_time": "2024-11-16T00:11:32.223368Z",
     "start_time": "2024-11-16T00:11:32.219331Z"
    }
   },
   "source": [
    "def insertion_sort(A):\n",
    "    for j in range(1, len(A)):\n",
    "        key = A[j]\n",
    "        i = j - 1\n",
    "        while i >= 0 and A[i] > key:\n",
    "            A[i + 1] = A[i]\n",
    "            i = i - 1\n",
    "        A[i + 1] = key"
   ],
   "outputs": [],
   "execution_count": 1
  },
  {
   "metadata": {
    "ExecuteTime": {
     "end_time": "2024-11-16T00:11:51.727079Z",
     "start_time": "2024-11-16T00:11:51.719829Z"
    }
   },
   "cell_type": "code",
   "source": [
    "A = [5, 2, 4, 6, 1, 3]\n",
    "insertion_sort(A)\n",
    "A"
   ],
   "id": "aefafd3f98173d9",
   "outputs": [
    {
     "data": {
      "text/plain": [
       "[1, 2, 3, 4, 5, 6]"
      ]
     },
     "execution_count": 2,
     "metadata": {},
     "output_type": "execute_result"
    }
   ],
   "execution_count": 2
  },
  {
   "metadata": {
    "ExecuteTime": {
     "end_time": "2024-11-16T00:11:53.050817Z",
     "start_time": "2024-11-16T00:11:53.043473Z"
    }
   },
   "cell_type": "code",
   "source": [
    "A = [31, 41, 59, 26, 41, 58]\n",
    "insertion_sort(A)\n",
    "A"
   ],
   "id": "85223ed4bb46c7b4",
   "outputs": [
    {
     "data": {
      "text/plain": [
       "[26, 31, 41, 41, 58, 59]"
      ]
     },
     "execution_count": 3,
     "metadata": {},
     "output_type": "execute_result"
    }
   ],
   "execution_count": 3
  },
  {
   "metadata": {
    "ExecuteTime": {
     "end_time": "2024-11-16T00:11:54.076287Z",
     "start_time": "2024-11-16T00:11:54.025942Z"
    }
   },
   "cell_type": "code",
   "source": [
    "def insertion_sort_2(A):\n",
    "    for j in range(1, len(A)):\n",
    "        key = A[j]\n",
    "        i = j - 1\n",
    "        while i >= 0 and A[i] < key:\n",
    "            A[i + 1] = A[i]\n",
    "            i = i - 1\n",
    "        A[i + 1] = key"
   ],
   "id": "9befa958212f2049",
   "outputs": [],
   "execution_count": 4
  },
  {
   "metadata": {
    "ExecuteTime": {
     "end_time": "2024-11-16T00:11:56.297946Z",
     "start_time": "2024-11-16T00:11:56.144340Z"
    }
   },
   "cell_type": "code",
   "source": [
    "A = [5, 2, 4, 6, 1, 3]\n",
    "insertion_sort_2(A)\n",
    "A"
   ],
   "id": "bc585fe05ca5b1b",
   "outputs": [
    {
     "data": {
      "text/plain": [
       "[6, 5, 4, 3, 2, 1]"
      ]
     },
     "execution_count": 5,
     "metadata": {},
     "output_type": "execute_result"
    }
   ],
   "execution_count": 5
  },
  {
   "metadata": {
    "ExecuteTime": {
     "end_time": "2024-11-16T00:11:58.692639Z",
     "start_time": "2024-11-16T00:11:58.684906Z"
    }
   },
   "cell_type": "code",
   "source": [
    "A = [31, 41, 59, 26, 41, 58]\n",
    "insertion_sort_2(A)\n",
    "A"
   ],
   "id": "874c388e6d683060",
   "outputs": [
    {
     "data": {
      "text/plain": [
       "[59, 58, 41, 41, 31, 26]"
      ]
     },
     "execution_count": 6,
     "metadata": {},
     "output_type": "execute_result"
    }
   ],
   "execution_count": 6
  },
  {
   "metadata": {
    "ExecuteTime": {
     "end_time": "2024-11-16T00:12:05.059654Z",
     "start_time": "2024-11-16T00:12:05.046860Z"
    }
   },
   "cell_type": "code",
   "source": [
    "def selection_sort(A):\n",
    "    for i in range(len(A)):\n",
    "        min_idx = i\n",
    "        for j in range(i + 1, len(A)):\n",
    "            if A[j] < A[min_idx]:\n",
    "                min_idx = j\n",
    "        tmp = A[i]\n",
    "        A[i] = A[min_idx]\n",
    "        A[min_idx] = tmp"
   ],
   "id": "2aeddbc0d05521e7",
   "outputs": [],
   "execution_count": 7
  },
  {
   "metadata": {
    "ExecuteTime": {
     "end_time": "2024-11-16T00:12:07.891145Z",
     "start_time": "2024-11-16T00:12:07.885814Z"
    }
   },
   "cell_type": "code",
   "source": [
    "A = [5, 2, 4, 6, 1, 3]\n",
    "selection_sort(A)\n",
    "A"
   ],
   "id": "589cb23b5323d719",
   "outputs": [
    {
     "data": {
      "text/plain": [
       "[1, 2, 3, 4, 5, 6]"
      ]
     },
     "execution_count": 8,
     "metadata": {},
     "output_type": "execute_result"
    }
   ],
   "execution_count": 8
  },
  {
   "metadata": {
    "ExecuteTime": {
     "end_time": "2024-11-16T00:12:09.647030Z",
     "start_time": "2024-11-16T00:12:09.641889Z"
    }
   },
   "cell_type": "code",
   "source": [
    "A = [31, 41, 59, 26, 41, 58]\n",
    "selection_sort(A)\n",
    "A"
   ],
   "id": "fa4b70f60fa86901",
   "outputs": [
    {
     "data": {
      "text/plain": [
       "[26, 31, 41, 41, 58, 59]"
      ]
     },
     "execution_count": 9,
     "metadata": {},
     "output_type": "execute_result"
    }
   ],
   "execution_count": 9
  },
  {
   "metadata": {
    "ExecuteTime": {
     "end_time": "2024-11-16T00:12:21.323224Z",
     "start_time": "2024-11-16T00:12:12.879819Z"
    }
   },
   "cell_type": "code",
   "source": [
    "A = list(range(20000, -1, -1))\n",
    "print(\"Length:\", len(A))\n",
    "print(\"Before sort:\")\n",
    "A = list(range(20000, -1, -1))\n",
    "print(\"Length:\", len(A))\n",
    "print(\"Before sort:\")\n",
    "print(A[:10])\n",
    "print(A[-10:])\n",
    "print(\"Sorting...\")\n",
    "selection_sort(A)\n",
    "print(\"After sort:\")\n",
    "print(A[:10])\n",
    "print(A[-10:])\n",
    "print(\"Sorting...\")\n",
    "insertion_sort(A)\n",
    "print(\"After sort:\")\n",
    "print(A[:10])\n",
    "print(A[-10:])"
   ],
   "id": "b52b18b314b12fb9",
   "outputs": [
    {
     "name": "stdout",
     "output_type": "stream",
     "text": [
      "Length: 20001\n",
      "Before sort:\n",
      "Length: 20001\n",
      "Before sort:\n",
      "[20000, 19999, 19998, 19997, 19996, 19995, 19994, 19993, 19992, 19991]\n",
      "[9, 8, 7, 6, 5, 4, 3, 2, 1, 0]\n",
      "Sorting...\n",
      "After sort:\n",
      "[0, 1, 2, 3, 4, 5, 6, 7, 8, 9]\n",
      "[19991, 19992, 19993, 19994, 19995, 19996, 19997, 19998, 19999, 20000]\n",
      "Sorting...\n",
      "After sort:\n",
      "[0, 1, 2, 3, 4, 5, 6, 7, 8, 9]\n",
      "[19991, 19992, 19993, 19994, 19995, 19996, 19997, 19998, 19999, 20000]\n"
     ]
    }
   ],
   "execution_count": 10
  },
  {
   "metadata": {
    "ExecuteTime": {
     "end_time": "2024-11-16T00:12:34.693166Z",
     "start_time": "2024-11-16T00:12:26.138308Z"
    }
   },
   "cell_type": "code",
   "source": [
    "A = list(range(20000, -1, -1))\n",
    "print(\"Length:\", len(A))\n",
    "print(\"Before sort:\")\n",
    "print(A[:10])\n",
    "print(A[-10:])\n",
    "print(\"Sorting...\")\n",
    "selection_sort(A)\n",
    "print(\"After sort:\")\n",
    "print(A[:10])\n",
    "print(A[-10:])"
   ],
   "id": "5870ff00a4205b07",
   "outputs": [
    {
     "name": "stdout",
     "output_type": "stream",
     "text": [
      "Length: 20001\n",
      "Before sort:\n",
      "[20000, 19999, 19998, 19997, 19996, 19995, 19994, 19993, 19992, 19991]\n",
      "[9, 8, 7, 6, 5, 4, 3, 2, 1, 0]\n",
      "Sorting...\n",
      "After sort:\n",
      "[0, 1, 2, 3, 4, 5, 6, 7, 8, 9]\n",
      "[19991, 19992, 19993, 19994, 19995, 19996, 19997, 19998, 19999, 20000]\n"
     ]
    }
   ],
   "execution_count": 11
  },
  {
   "metadata": {},
   "cell_type": "code",
   "outputs": [],
   "execution_count": null,
   "source": "",
   "id": "af458bbfc3c36838"
  }
 ],
 "metadata": {
  "kernelspec": {
   "display_name": "Python 3",
   "language": "python",
   "name": "python3"
  },
  "language_info": {
   "codemirror_mode": {
    "name": "ipython",
    "version": 2
   },
   "file_extension": ".py",
   "mimetype": "text/x-python",
   "name": "python",
   "nbconvert_exporter": "python",
   "pygments_lexer": "ipython2",
   "version": "2.7.6"
  }
 },
 "nbformat": 4,
 "nbformat_minor": 5
}
