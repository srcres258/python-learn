{
 "cells": [
  {
   "metadata": {},
   "cell_type": "markdown",
   "source": "# 排序算法",
   "id": "ca00421b34859123"
  },
  {
   "metadata": {
    "ExecuteTime": {
     "end_time": "2024-12-01T03:31:36.201967Z",
     "start_time": "2024-12-01T03:31:36.139899Z"
    }
   },
   "cell_type": "code",
   "source": [
    "from typing import List\n",
    "from math import floor, ceil\n",
    "import sys\n",
    "import numpy as np\n",
    "import numpy.typing as npt\n",
    "\n",
    "\n",
    "INFINITY = sys.maxsize\n",
    "\n",
    "\n",
    "def new_array(size: int) -> List[int]:\n",
    "    return [0] * size"
   ],
   "id": "83a4b670f36c4a6c",
   "outputs": [],
   "execution_count": 1
  },
  {
   "metadata": {},
   "cell_type": "markdown",
   "source": "## 插入排序（insertion sort）",
   "id": "480083efe1bf3e7a"
  },
  {
   "cell_type": "code",
   "id": "initial_id",
   "metadata": {
    "collapsed": true,
    "ExecuteTime": {
     "end_time": "2024-11-29T05:07:53.894017Z",
     "start_time": "2024-11-29T05:07:53.892141Z"
    }
   },
   "source": [
    "def insertion_sort(A: List[int]) -> None:\n",
    "    \"\"\"插入排序（insertion sort）\"\"\"\n",
    "    \n",
    "    for j in range(1, len(A)):\n",
    "        key = A[j]\n",
    "        # Insert A[j] into the sorted sequence A[0..j-1].\n",
    "        i = j - 1\n",
    "        while i >= 0 and A[i] > key:\n",
    "            A[i + 1] = A[i]\n",
    "            i = i - 1\n",
    "        A[i + 1] = key"
   ],
   "outputs": [],
   "execution_count": 2
  },
  {
   "metadata": {
    "ExecuteTime": {
     "end_time": "2024-11-29T05:07:55.283710Z",
     "start_time": "2024-11-29T05:07:55.281587Z"
    }
   },
   "cell_type": "code",
   "source": [
    "A = [1, 4, 2, 8, 5, 7]\n",
    "print(A)\n",
    "insertion_sort(A)\n",
    "print(A)"
   ],
   "id": "13fc1aae1b334aaa",
   "outputs": [
    {
     "name": "stdout",
     "output_type": "stream",
     "text": [
      "[1, 4, 2, 8, 5, 7]\n",
      "[1, 2, 4, 5, 7, 8]\n"
     ]
    }
   ],
   "execution_count": 3
  },
  {
   "metadata": {},
   "cell_type": "markdown",
   "source": "## 归并排序（merge sort）",
   "id": "ed56df00e7648198"
  },
  {
   "metadata": {
    "ExecuteTime": {
     "end_time": "2024-11-29T05:33:57.083878Z",
     "start_time": "2024-11-29T05:33:57.080522Z"
    }
   },
   "cell_type": "code",
   "source": [
    "def merge(A: List[int], p: int, q: int, r: int) -> None:\n",
    "    \"\"\"归并排序（merge sort）\"\"\"\n",
    "    \n",
    "    n1 = q - p + 1\n",
    "    n2 = r - q\n",
    "\n",
    "    # let L[0..n1] and R[0..n2] be new arrays\n",
    "    L = new_array(n1 + 1)\n",
    "    R = new_array(n2 + 1)\n",
    "\n",
    "    for i in range(n1):\n",
    "        L[i] = A[p + i]\n",
    "    for j in range(n2):\n",
    "        R[j] = A[q + j + 1]\n",
    "    L[n1] = INFINITY\n",
    "    R[n2] = INFINITY\n",
    "    i = 0\n",
    "    j = 0\n",
    "    for k in range(p, r + 1):\n",
    "        if L[i] <= R[j]:\n",
    "            A[k] = L[i]\n",
    "            i += 1\n",
    "        else:\n",
    "            A[k] = R[j]\n",
    "            j += 1"
   ],
   "id": "daccbb1cc480a73e",
   "outputs": [],
   "execution_count": 14
  },
  {
   "metadata": {},
   "cell_type": "code",
   "outputs": [],
   "execution_count": null,
   "source": [
    "def merge_sort(A: List[int], p: int, r: int) -> None:\n",
    "    if p < r:\n",
    "        q = floor((p + r) / 2)\n",
    "        merge_sort(A, p, q)\n",
    "        merge_sort(A, q + 1, r)\n",
    "        merge(A, p, q, r)"
   ],
   "id": "b245203e1a5a0da7"
  },
  {
   "metadata": {
    "ExecuteTime": {
     "end_time": "2024-11-29T05:33:57.699592Z",
     "start_time": "2024-11-29T05:33:57.696798Z"
    }
   },
   "cell_type": "code",
   "source": [
    "A = [1, 4, 2, 8, 5, 7]\n",
    "print(A)\n",
    "merge_sort(A, 0, len(A) - 1)\n",
    "print(A)"
   ],
   "id": "e2cbb47e21ecc632",
   "outputs": [
    {
     "name": "stdout",
     "output_type": "stream",
     "text": [
      "[2, 4, 5, 7, 1, 2, 3, 6]\n",
      "[1, 2, 2, 3, 4, 5, 6, 7]\n"
     ]
    }
   ],
   "execution_count": 15
  },
  {
   "metadata": {},
   "cell_type": "markdown",
   "source": "## 冒泡排序（bubble sort）",
   "id": "1298fc7e430a146a"
  },
  {
   "metadata": {
    "ExecuteTime": {
     "end_time": "2024-11-30T14:05:25.323888Z",
     "start_time": "2024-11-30T14:05:25.321580Z"
    }
   },
   "cell_type": "code",
   "source": [
    "def bubblesort(A: List[int]) -> None:\n",
    "    \"\"\"冒泡排序（bubble sort）\"\"\"\n",
    "    \n",
    "    for i in range(len(A) - 1):\n",
    "        for j in range(len(A) - 1, i, -1):\n",
    "            if A[j] < A[j - 1]:\n",
    "                # exchange A[j] with A[j - 1]\n",
    "                tmp = A[j]\n",
    "                A[j] = A[j - 1]\n",
    "                A[j - 1] = tmp"
   ],
   "id": "fd289e3a84a78f1",
   "outputs": [],
   "execution_count": 5
  },
  {
   "metadata": {
    "ExecuteTime": {
     "end_time": "2024-11-30T14:05:34.217850Z",
     "start_time": "2024-11-30T14:05:34.215930Z"
    }
   },
   "cell_type": "code",
   "source": [
    "A = [1, 4, 2, 8, 5, 7]\n",
    "print(A)\n",
    "bubblesort(A)\n",
    "print(A)"
   ],
   "id": "555ab7727b17cd33",
   "outputs": [
    {
     "name": "stdout",
     "output_type": "stream",
     "text": [
      "[1, 4, 2, 8, 5, 7]\n",
      "[1, 2, 4, 5, 7, 8]\n"
     ]
    }
   ],
   "execution_count": 6
  },
  {
   "metadata": {},
   "cell_type": "markdown",
   "source": "## 堆排序（heap sort）",
   "id": "2826d1a7adcee96b"
  },
  {
   "metadata": {
    "ExecuteTime": {
     "end_time": "2024-11-30T14:20:08.472622Z",
     "start_time": "2024-11-30T14:20:08.469798Z"
    }
   },
   "cell_type": "code",
   "source": [
    "def parent(i: int) -> int:\n",
    "    return floor((i + 1) / 2) - 1\n",
    "\n",
    "\n",
    "def left(i: int) -> int:\n",
    "    return 2 * i + 1\n",
    "\n",
    "\n",
    "def right(i: int) -> int:\n",
    "    return 2 * i + 2"
   ],
   "id": "6704dd39abd06c4",
   "outputs": [],
   "execution_count": 7
  },
  {
   "metadata": {
    "ExecuteTime": {
     "end_time": "2024-11-30T14:30:22.379505Z",
     "start_time": "2024-11-30T14:30:22.376383Z"
    }
   },
   "cell_type": "code",
   "source": [
    "class Heap:\n",
    "    def __init__(self):\n",
    "        self.heap_size: int = 0\n",
    "        self.data: List[int] = []\n",
    "\n",
    "\n",
    "def max_heapify(A: Heap, i: int) -> None:\n",
    "    l = left(i)\n",
    "    r = right(i)\n",
    "    if l < A.heap_size and A.data[l] > A.data[i]:\n",
    "        largest = l\n",
    "    else:\n",
    "        largest = i\n",
    "    if r < A.heap_size and A.data[r] > A.data[largest]:\n",
    "        largest = r\n",
    "    if largest != i:\n",
    "        # exchange A.data[i] with A.data[largest]\n",
    "        tmp = A.data[i]\n",
    "        A.data[i] = A.data[largest]\n",
    "        A.data[largest] = tmp\n",
    "        \n",
    "        max_heapify(A, largest)\n",
    "\n",
    "\n",
    "def build_max_heap(A: Heap) -> None:\n",
    "    A.heap_size = len(A.data)\n",
    "    for i in range(floor(len(A.data) / 2) - 1, -1, -1):\n",
    "        max_heapify(A, i)"
   ],
   "id": "a4b75cdb3153d417",
   "outputs": [],
   "execution_count": 20
  },
  {
   "metadata": {},
   "cell_type": "code",
   "outputs": [],
   "execution_count": null,
   "source": [
    "def heapsort(A: Heap) -> None:\n",
    "    \"\"\"堆排序（heap sort）\"\"\"\n",
    "    \n",
    "    build_max_heap(A)\n",
    "    for i in range(len(A.data) - 1, 0, -1):\n",
    "        # exchange A.data[0] with A.data[i]\n",
    "        tmp = A.data[0]\n",
    "        A.data[0] = A.data[i]\n",
    "        A.data[i] = tmp\n",
    "\n",
    "        A.heap_size -= 1\n",
    "        max_heapify(A, 0)"
   ],
   "id": "4e17a9093356af24"
  },
  {
   "metadata": {
    "ExecuteTime": {
     "end_time": "2024-11-30T14:30:22.683368Z",
     "start_time": "2024-11-30T14:30:22.680522Z"
    }
   },
   "cell_type": "code",
   "source": [
    "A = Heap()\n",
    "A.data = [1, 4, 2, 8, 5, 7]\n",
    "print(A.data)\n",
    "heapsort(A)\n",
    "print(A.data)"
   ],
   "id": "a5a5658b13ab9cef",
   "outputs": [
    {
     "name": "stdout",
     "output_type": "stream",
     "text": [
      "[1, 4, 2, 8, 5, 7]\n",
      "[1, 2, 4, 5, 7, 8]\n"
     ]
    }
   ],
   "execution_count": 21
  },
  {
   "metadata": {},
   "cell_type": "markdown",
   "source": "## 快速排序（quick sort）",
   "id": "5727ac2fdf42b6d"
  },
  {
   "metadata": {
    "ExecuteTime": {
     "end_time": "2024-11-30T14:38:28.066669Z",
     "start_time": "2024-11-30T14:38:28.064490Z"
    }
   },
   "cell_type": "code",
   "source": [
    "def partition(A: List[int], p: int, r: int) -> int:\n",
    "    x = A[r]\n",
    "    i = p - 1\n",
    "    for j in range(p, r):\n",
    "        if A[j] <= x:\n",
    "            i += 1\n",
    "            \n",
    "            # exchange A[i] with A[j]\n",
    "            tmp = A[i]\n",
    "            A[i] = A[j]\n",
    "            A[j] = tmp\n",
    "    \n",
    "    # exchange A[i + 1] with A[r]\n",
    "    tmp = A[i + 1]\n",
    "    A[i + 1] = A[r]\n",
    "    A[r] = tmp\n",
    "    \n",
    "    return i + 1"
   ],
   "id": "a1fc4eb6a69f38a1",
   "outputs": [],
   "execution_count": 28
  },
  {
   "metadata": {
    "ExecuteTime": {
     "end_time": "2024-11-30T14:38:28.258107Z",
     "start_time": "2024-11-30T14:38:28.256304Z"
    }
   },
   "cell_type": "code",
   "source": [
    "def quicksort(A: List[int], p: int, r: int) -> None:\n",
    "    \"\"\"快速排序（quick sort）\"\"\"\n",
    "    \n",
    "    if p < r:\n",
    "        q = partition(A, p, r)\n",
    "        quicksort(A, p, q - 1)\n",
    "        quicksort(A, q + 1, r)"
   ],
   "id": "2274ebcb2f8e0977",
   "outputs": [],
   "execution_count": 29
  },
  {
   "metadata": {
    "ExecuteTime": {
     "end_time": "2024-11-30T14:38:28.485274Z",
     "start_time": "2024-11-30T14:38:28.482919Z"
    }
   },
   "cell_type": "code",
   "source": [
    "A = [1, 4, 2, 8, 5, 7]\n",
    "print(A)\n",
    "quicksort(A, 0, len(A) - 1)\n",
    "print(A)"
   ],
   "id": "58c220ea5e2d6a96",
   "outputs": [
    {
     "name": "stdout",
     "output_type": "stream",
     "text": [
      "[1, 4, 2, 8, 5, 7]\n",
      "[1, 2, 4, 5, 7, 8]\n"
     ]
    }
   ],
   "execution_count": 30
  },
  {
   "metadata": {},
   "cell_type": "markdown",
   "source": "## 计数排序（counting sort）",
   "id": "45e31730fb052819"
  },
  {
   "metadata": {
    "ExecuteTime": {
     "end_time": "2024-11-30T14:56:16.338530Z",
     "start_time": "2024-11-30T14:56:16.336503Z"
    }
   },
   "cell_type": "code",
   "source": [
    "def counting_sort(A: List[int], B: List[int], k: int) -> None:\n",
    "    \"\"\"计数排序（counting sort）\"\"\"\n",
    "    \n",
    "    C = new_array(k + 1)\n",
    "    for i in range(k + 1):\n",
    "        C[i] = 0\n",
    "    for j in range(0, len(A)):\n",
    "        C[A[j]] += 1\n",
    "    # C[i] now contains the number of elements equal to i.\n",
    "    for i in range(1, k + 1):\n",
    "        C[i] += C[i - 1]\n",
    "    # C[i] now contains the number of elements less than or equal to i.\n",
    "    for j in range(len(A) - 1, -1, -1):\n",
    "        B[C[A[j]] - 1] = A[j]\n",
    "        C[A[j]] -= 1"
   ],
   "id": "77b577d3e6cdb600",
   "outputs": [],
   "execution_count": 58
  },
  {
   "metadata": {
    "ExecuteTime": {
     "end_time": "2024-11-30T14:56:16.508226Z",
     "start_time": "2024-11-30T14:56:16.503733Z"
    }
   },
   "cell_type": "code",
   "source": [
    "A = [1, 4, 2, 8, 5, 7]\n",
    "B = new_array(len(A))\n",
    "print(A)\n",
    "counting_sort(A, B, max(A))\n",
    "print(B)"
   ],
   "id": "41adc2f7c550b0d3",
   "outputs": [
    {
     "name": "stdout",
     "output_type": "stream",
     "text": [
      "[1, 4, 2, 8, 5, 7]\n",
      "[1, 2, 4, 5, 7, 8]\n"
     ]
    }
   ],
   "execution_count": 59
  },
  {
   "metadata": {},
   "cell_type": "markdown",
   "source": [
    "## 桶排序（bucket sort）\n",
    "\n",
    "一般意义下的桶排序：设待排序的数列中的元素均独立、均匀地分布于区间[0,1)内，给元素分桶（一层桶即可），然后对各桶调用具有稳定性的排序进行排序，最后依次取出元素首尾相连。\n",
    "\n",
    "完全意义下的桶排序（不依赖外部排序算法而纯用桶排自身实现）则转换为下文基于桶排序思想的基数排序。"
   ],
   "id": "76abd8996c27b403"
  },
  {
   "metadata": {
    "ExecuteTime": {
     "end_time": "2024-11-30T16:02:23.354986Z",
     "start_time": "2024-11-30T16:02:23.351717Z"
    }
   },
   "cell_type": "code",
   "source": [
    "def insertion_sort(A: List[float]) -> None:\n",
    "    \"\"\"插入排序（insertion sort）\"\"\"\n",
    "\n",
    "    for j in range(1, len(A)):\n",
    "        key = A[j]\n",
    "        # Insert A[j] into the sorted sequence A[0..j-1].\n",
    "        i = j - 1\n",
    "        while i >= 0 and A[i] > key:\n",
    "            A[i + 1] = A[i]\n",
    "            i = i - 1\n",
    "        A[i + 1] = key\n",
    "\n",
    "\n",
    "def bucket_sort(A: List[float]) -> None:\n",
    "    n = len(A)\n",
    "    B: List[List[float]] = [None] * n\n",
    "    for i in range(n):\n",
    "        # make B[i] an empty list\n",
    "        B[i] = []\n",
    "    for i in range(n):\n",
    "        # insert A[i] into list B[floor(n * A[i])]\n",
    "        B[floor(n * A[i])].append(A[i])\n",
    "    for i in range(n):\n",
    "        # sort list B[i] with insertion sort\n",
    "        insertion_sort(B[i])\n",
    "    # concatenate the lists B[0], B[1], ..., B[n - 1] together in order\n",
    "    A.clear()\n",
    "    for b in B:\n",
    "        for e in b:\n",
    "            A.append(e)\n",
    "    "
   ],
   "id": "fa895cbaad47ce4c",
   "outputs": [],
   "execution_count": 129
  },
  {
   "metadata": {
    "ExecuteTime": {
     "end_time": "2024-11-30T16:02:23.614015Z",
     "start_time": "2024-11-30T16:02:23.611565Z"
    }
   },
   "cell_type": "code",
   "source": [
    "A = []\n",
    "for i in range(9, -1, -1):\n",
    "    A.append(1.0 / 10 * i)\n",
    "print(A)\n",
    "bucket_sort(A)\n",
    "print(A)"
   ],
   "id": "763accd53c516f49",
   "outputs": [
    {
     "name": "stdout",
     "output_type": "stream",
     "text": [
      "[0.9, 0.8, 0.7000000000000001, 0.6000000000000001, 0.5, 0.4, 0.30000000000000004, 0.2, 0.1, 0.0]\n",
      "[0.0, 0.1, 0.2, 0.30000000000000004, 0.4, 0.5, 0.6000000000000001, 0.7000000000000001, 0.8, 0.9]\n"
     ]
    }
   ],
   "execution_count": 130
  },
  {
   "metadata": {
    "ExecuteTime": {
     "end_time": "2024-11-30T16:03:08.544286Z",
     "start_time": "2024-11-30T16:03:08.542196Z"
    }
   },
   "cell_type": "code",
   "source": [
    "A = []\n",
    "for i in range(99, -1, -1):\n",
    "    A.append(1.0 / 100 * i)\n",
    "print(A)\n",
    "bucket_sort(A)\n",
    "print(A)"
   ],
   "id": "4aad11456c406f7e",
   "outputs": [
    {
     "name": "stdout",
     "output_type": "stream",
     "text": [
      "[0.99, 0.98, 0.97, 0.96, 0.9500000000000001, 0.9400000000000001, 0.93, 0.92, 0.91, 0.9, 0.89, 0.88, 0.87, 0.86, 0.85, 0.84, 0.8300000000000001, 0.8200000000000001, 0.81, 0.8, 0.79, 0.78, 0.77, 0.76, 0.75, 0.74, 0.73, 0.72, 0.71, 0.7000000000000001, 0.6900000000000001, 0.68, 0.67, 0.66, 0.65, 0.64, 0.63, 0.62, 0.61, 0.6, 0.59, 0.58, 0.5700000000000001, 0.56, 0.55, 0.54, 0.53, 0.52, 0.51, 0.5, 0.49, 0.48, 0.47000000000000003, 0.46, 0.45, 0.44, 0.43, 0.42, 0.41000000000000003, 0.4, 0.39, 0.38, 0.37, 0.36, 0.35000000000000003, 0.34, 0.33, 0.32, 0.31, 0.3, 0.29, 0.28, 0.27, 0.26, 0.25, 0.24, 0.23, 0.22, 0.21, 0.2, 0.19, 0.18, 0.17, 0.16, 0.15, 0.14, 0.13, 0.12, 0.11, 0.1, 0.09, 0.08, 0.07, 0.06, 0.05, 0.04, 0.03, 0.02, 0.01, 0.0]\n",
      "[0.0, 0.01, 0.02, 0.03, 0.04, 0.05, 0.06, 0.07, 0.08, 0.09, 0.1, 0.11, 0.12, 0.13, 0.14, 0.15, 0.16, 0.17, 0.18, 0.19, 0.2, 0.21, 0.22, 0.23, 0.24, 0.25, 0.26, 0.27, 0.28, 0.29, 0.3, 0.31, 0.32, 0.33, 0.34, 0.35000000000000003, 0.36, 0.37, 0.38, 0.39, 0.4, 0.41000000000000003, 0.42, 0.43, 0.44, 0.45, 0.46, 0.47000000000000003, 0.48, 0.49, 0.5, 0.51, 0.52, 0.53, 0.54, 0.55, 0.56, 0.5700000000000001, 0.58, 0.59, 0.6, 0.61, 0.62, 0.63, 0.64, 0.65, 0.66, 0.67, 0.68, 0.6900000000000001, 0.7000000000000001, 0.71, 0.72, 0.73, 0.74, 0.75, 0.76, 0.77, 0.78, 0.79, 0.8, 0.81, 0.8200000000000001, 0.8300000000000001, 0.84, 0.85, 0.86, 0.87, 0.88, 0.89, 0.9, 0.91, 0.92, 0.93, 0.9400000000000001, 0.9500000000000001, 0.96, 0.97, 0.98, 0.99]\n"
     ]
    }
   ],
   "execution_count": 131
  },
  {
   "metadata": {},
   "cell_type": "markdown",
   "source": "## 基数排序（radix sort）",
   "id": "33c5c2412fa21c16"
  },
  {
   "metadata": {
    "ExecuteTime": {
     "end_time": "2024-12-01T03:31:43.325474Z",
     "start_time": "2024-12-01T03:31:43.322149Z"
    }
   },
   "cell_type": "code",
   "source": [
    "def counting_sort_on_digit(A: List[int], B: List[int], d: int) -> None:\n",
    "    C = new_array(10)\n",
    "    for i in range(10):\n",
    "        C[i] = 0\n",
    "    for j in range(0, len(A)):\n",
    "        digit = (A[j] // (10 ** d)) % 10\n",
    "        C[digit] += 1\n",
    "    # C[i] now contains the number of elements equal to i.\n",
    "    for i in range(1, 10):\n",
    "        C[i] += C[i - 1]\n",
    "    # C[i] now contains the number of elements less than or equal to i.\n",
    "    for j in range(len(A) - 1, -1, -1):\n",
    "        digit = (A[j] // (10 ** d)) % 10\n",
    "        B[C[digit] - 1] = A[j]\n",
    "        C[digit] -= 1\n",
    "\n",
    "\n",
    "def msd_sort(\n",
    "        arr: List[int] | npt.NDArray[int],\n",
    "        radix: int\n",
    ") -> List[int]:\n",
    "    # 递归到个位数，退出\n",
    "    if radix <= 0:\n",
    "        return arr\n",
    "    # 分组计数器\n",
    "    group_counter = np.zeros(10, dtype=int)\n",
    "\n",
    "    # 分组桶\n",
    "    group_bucket = np.zeros((10, len(arr)), dtype=int)\n",
    "\n",
    "    for i in range(len(arr)):\n",
    "        # 找分组桶位置\n",
    "        position = arr[i] // radix % 10\n",
    "        # 将元素存入分组\n",
    "        group_bucket[position][group_counter[position]] = arr[i]\n",
    "        # 当前分组计数加1\n",
    "        group_counter[position] += 1\n",
    "\n",
    "    index = 0\n",
    "    sort_arr = np.zeros(len(arr), dtype=int)\n",
    "\n",
    "    # 遍历分组计数器\n",
    "    for i in range(len(group_counter)):\n",
    "        # 组内元素数量>1，递归分组\n",
    "        if group_counter[i] >= 1:\n",
    "            copy_arr = np.zeros(group_counter[i], dtype=int)\n",
    "            for j, e in enumerate(group_bucket[i][:group_counter[i]]):\n",
    "                copy_arr[j] = e\n",
    "            # 递归分组\n",
    "            tmp = msd_sort(copy_arr, radix // 10)\n",
    "            # 收集递归分组后的元素\n",
    "            for j in range(len(tmp)):\n",
    "                sort_arr[index] = tmp[j]\n",
    "                index += 1\n",
    "        elif group_counter[i] == 1:\n",
    "            # 收集组内元素数量=1的元素\n",
    "            sort_arr[index] = group_bucket[i][0]\n",
    "            index += 1\n",
    "\n",
    "    return sort_arr.tolist()"
   ],
   "id": "f4b864f4a2d75cf",
   "outputs": [],
   "execution_count": 2
  },
  {
   "metadata": {
    "ExecuteTime": {
     "end_time": "2024-12-01T03:31:44.217828Z",
     "start_time": "2024-12-01T03:31:44.214100Z"
    }
   },
   "cell_type": "code",
   "source": [
    "def radix_sort_lsd_c(A: List[int], d: int) -> None:\n",
    "    \"\"\"\n",
    "    基数排序（radix sort），LSD\n",
    "    \n",
    "    基于计数排序实现。\n",
    "    \n",
    "    注意：基于计数排序，只能实现LSD基数排序，而无法实现MSD基数排序。\n",
    "    \"\"\"\n",
    "    \n",
    "    res = A.copy()\n",
    "    for i in range(d):\n",
    "        tmp = new_array(len(A))\n",
    "        counting_sort_on_digit(res, tmp, i)\n",
    "        res = tmp\n",
    "    for idx, i in enumerate(res):\n",
    "        A[idx] = i\n",
    "\n",
    "\n",
    "def radix_sort_lsd_b(A: List[int], d: int) -> None:\n",
    "    \"\"\"\n",
    "    基数排序（radix sort），LSD\n",
    "    \n",
    "    基于桶排序实现（非递归）。\n",
    "    \"\"\"\n",
    "    \n",
    "    # 从低到高基于数位进行排序。\n",
    "    for i in range(d):\n",
    "        # 创建10个桶，各桶的容量均与A的长度相当。\n",
    "        # 即创建形态数为 (10, len(A)) 的数组。\n",
    "        buckets = np.zeros((10, len(A)), dtype=int)\n",
    "        buckets_len = np.zeros(10, dtype=int) # 用以记录各桶已用长度的数组。\n",
    "        # 遍历数组A，将各元素放进相应的桶中。\n",
    "        for e in A:\n",
    "            digit = (e // (10 ** i)) % 10\n",
    "            buckets[digit][buckets_len[digit]] = e\n",
    "            buckets_len[digit] += 1\n",
    "        # 按从小桶到大桶的顺序取桶中数据并覆盖A中现有数据。\n",
    "        A.clear()\n",
    "        for j in range(10):\n",
    "            for k in range(buckets_len[j]):\n",
    "                A.append(buckets[j][k])\n",
    "\n",
    "\n",
    "def radix_sort_msd_b(A: List[int], d: int) -> List[int]:\n",
    "    \"\"\"\n",
    "    基数排序（radix sort），MSD\n",
    "\n",
    "    基于桶排序实现（递归）。\n",
    "    \"\"\"\n",
    "\n",
    "    # 计算最大值的基数\n",
    "    radix = 10 ** (d - 1)\n",
    "\n",
    "    return msd_sort(A, radix)"
   ],
   "id": "ce0fa9a3ee6b0735",
   "outputs": [],
   "execution_count": 3
  },
  {
   "metadata": {
    "ExecuteTime": {
     "end_time": "2024-11-30T17:23:14.322359Z",
     "start_time": "2024-11-30T17:23:14.319321Z"
    }
   },
   "cell_type": "code",
   "source": [
    "A = [1, 4, 2, 8, 5, 7]\n",
    "print(A)\n",
    "radix_sort_lsd_c(A, len(str(max(A))))\n",
    "print(A)"
   ],
   "id": "8f86f06c73d4a693",
   "outputs": [
    {
     "name": "stdout",
     "output_type": "stream",
     "text": [
      "[1, 4, 2, 8, 5, 7]\n",
      "[1, 2, 4, 5, 7, 8]\n"
     ]
    }
   ],
   "execution_count": 4
  },
  {
   "metadata": {
    "ExecuteTime": {
     "end_time": "2024-11-30T17:23:14.785731Z",
     "start_time": "2024-11-30T17:23:14.783082Z"
    }
   },
   "cell_type": "code",
   "source": [
    "A = [1, 11, 114, 1145, 11451, 114514]\n",
    "A.reverse()\n",
    "print(A)\n",
    "radix_sort_lsd_c(A, len(str(max(A))))\n",
    "print(A)"
   ],
   "id": "5a14974554f56ee3",
   "outputs": [
    {
     "name": "stdout",
     "output_type": "stream",
     "text": [
      "[114514, 11451, 1145, 114, 11, 1]\n",
      "[1, 11, 114, 1145, 11451, 114514]\n"
     ]
    }
   ],
   "execution_count": 5
  },
  {
   "metadata": {
    "ExecuteTime": {
     "end_time": "2024-11-30T17:23:15.476933Z",
     "start_time": "2024-11-30T17:23:15.474525Z"
    }
   },
   "cell_type": "code",
   "source": [
    "A = [1, 4, 2, 8, 5, 7]\n",
    "print(A)\n",
    "radix_sort_lsd_b(A, len(str(max(A))))\n",
    "print(A)"
   ],
   "id": "f946b9dcf73e6e48",
   "outputs": [
    {
     "name": "stdout",
     "output_type": "stream",
     "text": [
      "[1, 4, 2, 8, 5, 7]\n",
      "[1, 2, 4, 5, 7, 8]\n"
     ]
    }
   ],
   "execution_count": 6
  },
  {
   "metadata": {
    "ExecuteTime": {
     "end_time": "2024-11-30T17:23:17.919488Z",
     "start_time": "2024-11-30T17:23:17.916892Z"
    }
   },
   "cell_type": "code",
   "source": [
    "A = [1, 11, 114, 1145, 11451, 114514]\n",
    "A.reverse()\n",
    "print(A)\n",
    "radix_sort_lsd_b(A, len(str(max(A))))\n",
    "print(A)"
   ],
   "id": "416f6943a45b1e78",
   "outputs": [
    {
     "name": "stdout",
     "output_type": "stream",
     "text": [
      "[114514, 11451, 1145, 114, 11, 1]\n",
      "[1, 11, 114, 1145, 11451, 114514]\n"
     ]
    }
   ],
   "execution_count": 7
  },
  {
   "metadata": {
    "ExecuteTime": {
     "end_time": "2024-12-01T03:31:46.955937Z",
     "start_time": "2024-12-01T03:31:46.954013Z"
    }
   },
   "cell_type": "code",
   "source": [
    "A = [1, 4, 2, 8, 5, 7]\n",
    "print(A)\n",
    "A = radix_sort_msd_b(A, len(str(max(A))))\n",
    "print(A)"
   ],
   "id": "97875997f9f91689",
   "outputs": [
    {
     "name": "stdout",
     "output_type": "stream",
     "text": [
      "[1, 4, 2, 8, 5, 7]\n",
      "[1, 2, 4, 5, 7, 8]\n"
     ]
    }
   ],
   "execution_count": 4
  },
  {
   "metadata": {
    "ExecuteTime": {
     "end_time": "2024-12-01T03:32:04.157090Z",
     "start_time": "2024-12-01T03:32:04.154316Z"
    }
   },
   "cell_type": "code",
   "source": [
    "A = [1, 11, 114, 1145, 11451, 114514]\n",
    "A.reverse()\n",
    "print(A)\n",
    "A = radix_sort_msd_b(A, len(str(max(A))))\n",
    "print(A)"
   ],
   "id": "8462978ce1332e03",
   "outputs": [
    {
     "name": "stdout",
     "output_type": "stream",
     "text": [
      "[114514, 11451, 1145, 114, 11, 1]\n",
      "[1, 11, 114, 1145, 11451, 114514]\n"
     ]
    }
   ],
   "execution_count": 5
  },
  {
   "metadata": {},
   "cell_type": "code",
   "outputs": [],
   "execution_count": null,
   "source": "",
   "id": "43d482abe52206dc"
  }
 ],
 "metadata": {
  "kernelspec": {
   "display_name": "Python 3",
   "language": "python",
   "name": "python3"
  },
  "language_info": {
   "codemirror_mode": {
    "name": "ipython",
    "version": 2
   },
   "file_extension": ".py",
   "mimetype": "text/x-python",
   "name": "python",
   "nbconvert_exporter": "python",
   "pygments_lexer": "ipython2",
   "version": "2.7.6"
  }
 },
 "nbformat": 4,
 "nbformat_minor": 5
}
