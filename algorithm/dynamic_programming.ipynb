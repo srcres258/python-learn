{
 "cells": [
  {
   "metadata": {},
   "cell_type": "markdown",
   "source": "# 算法篇：动态规划",
   "id": "b5f2747740d49869"
  },
  {
   "cell_type": "code",
   "id": "initial_id",
   "metadata": {
    "collapsed": true,
    "ExecuteTime": {
     "end_time": "2024-12-17T06:52:30.717532Z",
     "start_time": "2024-12-17T06:52:30.706285Z"
    }
   },
   "source": [
    "from typing import List\n",
    "import sys\n",
    "\n",
    "\n",
    "INFINITY: int = sys.maxsize\n",
    "\n",
    "\n",
    "def new_array(size: int) -> List[int]:\n",
    "    return [0] * (size + 1)\n",
    "\n",
    "\n",
    "def range_to(start: int, end: int) -> range:\n",
    "    return range(start, end + 1)"
   ],
   "outputs": [],
   "execution_count": 1
  },
  {
   "metadata": {
    "ExecuteTime": {
     "end_time": "2024-12-17T06:52:32.729253Z",
     "start_time": "2024-12-17T06:52:32.717522Z"
    }
   },
   "cell_type": "code",
   "source": [
    "def cut_rod(p: List[int], n: int) -> int:\n",
    "    if n == 0:\n",
    "        return 0\n",
    "    q = -INFINITY\n",
    "    for i in range_to(1, n):\n",
    "        q = max(q, p[i] + cut_rod(p, n - i))\n",
    "    return q"
   ],
   "id": "ed7b59a93f7949ee",
   "outputs": [],
   "execution_count": 2
  },
  {
   "metadata": {
    "ExecuteTime": {
     "end_time": "2024-12-17T06:52:50.819859Z",
     "start_time": "2024-12-17T06:52:50.809085Z"
    }
   },
   "cell_type": "code",
   "source": [
    "p = [0, 1, 5, 8, 9, 10, 17, 17, 20, 24, 30]\n",
    "print(cut_rod(p, 10))"
   ],
   "id": "2ae6178ed61a41a4",
   "outputs": [
    {
     "name": "stdout",
     "output_type": "stream",
     "text": [
      "30\n"
     ]
    }
   ],
   "execution_count": 6
  },
  {
   "metadata": {
    "ExecuteTime": {
     "end_time": "2024-12-17T07:40:36.045443Z",
     "start_time": "2024-12-17T07:40:36.024851Z"
    }
   },
   "cell_type": "code",
   "source": [
    "def memoized_cut_rod(p: List[int], n: int) -> int:\n",
    "    r = new_array(n)\n",
    "    for i in range_to(0, n):\n",
    "        r[i] = -INFINITY\n",
    "    return memoized_cut_rod_aux(p, n, r)\n",
    "\n",
    "\n",
    "def memoized_cut_rod_aux(p: List[int], n: int, r: List[int]) -> int:\n",
    "    if r[n] >= 0:\n",
    "        return r[n]\n",
    "    if n == 0:\n",
    "        q = 0\n",
    "    else:\n",
    "        q = -INFINITY\n",
    "        for i in range_to(1, n):\n",
    "            q = max(q, p[i] + memoized_cut_rod_aux(p, n - i, r))\n",
    "    r[n] = q\n",
    "    return r[n]"
   ],
   "id": "27004359f9b96a65",
   "outputs": [],
   "execution_count": 13
  },
  {
   "metadata": {
    "ExecuteTime": {
     "end_time": "2024-12-17T07:40:36.214591Z",
     "start_time": "2024-12-17T07:40:36.208233Z"
    }
   },
   "cell_type": "code",
   "source": [
    "p = [0, 1, 5, 8, 9, 10, 17, 17, 20, 24, 30]\n",
    "print(memoized_cut_rod(p, 10))"
   ],
   "id": "fbf652919af4a96c",
   "outputs": [
    {
     "name": "stdout",
     "output_type": "stream",
     "text": [
      "30\n"
     ]
    }
   ],
   "execution_count": 14
  },
  {
   "metadata": {},
   "cell_type": "code",
   "outputs": [],
   "execution_count": null,
   "source": "",
   "id": "2abc781a7ebd92b0"
  }
 ],
 "metadata": {
  "kernelspec": {
   "display_name": "Python 3",
   "language": "python",
   "name": "python3"
  },
  "language_info": {
   "codemirror_mode": {
    "name": "ipython",
    "version": 2
   },
   "file_extension": ".py",
   "mimetype": "text/x-python",
   "name": "python",
   "nbconvert_exporter": "python",
   "pygments_lexer": "ipython2",
   "version": "2.7.6"
  }
 },
 "nbformat": 4,
 "nbformat_minor": 5
}
