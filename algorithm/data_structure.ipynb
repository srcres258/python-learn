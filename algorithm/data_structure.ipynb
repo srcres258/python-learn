{
 "cells": [
  {
   "metadata": {},
   "cell_type": "markdown",
   "source": "# 数据结构",
   "id": "da5bd2b19bef0d5"
  },
  {
   "cell_type": "code",
   "id": "initial_id",
   "metadata": {
    "collapsed": true,
    "ExecuteTime": {
     "end_time": "2024-12-05T14:11:35.326116Z",
     "start_time": "2024-12-05T14:11:35.324341Z"
    }
   },
   "source": [
    "from typing import List, Optional\n",
    "\n",
    "\n",
    "class StringException(BaseException):\n",
    "    def __init__(self, *args):\n",
    "        super().__init__(*args)"
   ],
   "outputs": [],
   "execution_count": 1
  },
  {
   "metadata": {},
   "cell_type": "markdown",
   "source": [
    "## 栈（stack）\n",
    "\n",
    "### 类型定义"
   ],
   "id": "cacebdcf9b969a72"
  },
  {
   "metadata": {
    "ExecuteTime": {
     "end_time": "2024-12-05T14:11:36.632141Z",
     "start_time": "2024-12-05T14:11:36.630044Z"
    }
   },
   "cell_type": "code",
   "source": [
    "class Stack:\n",
    "    def __init__(self, capacity: int = 100):\n",
    "        self.top: int = -1\n",
    "        self.capacity: int = capacity\n",
    "        self.data: List[int] = [0] * capacity"
   ],
   "id": "e313f2957cf290cf",
   "outputs": [],
   "execution_count": 2
  },
  {
   "metadata": {},
   "cell_type": "markdown",
   "source": "### 相关操作",
   "id": "12334c0cb5ce8c32"
  },
  {
   "metadata": {},
   "cell_type": "code",
   "outputs": [],
   "execution_count": null,
   "source": [
    "def stack_empty(S: Stack[int]) -> bool:\n",
    "    return S.top == -1\n",
    "\n",
    "\n",
    "def push(S: Stack[int], x: int) -> None:\n",
    "    S.top += 1\n",
    "    S.data[S.top] = x\n",
    "\n",
    "\n",
    "def pop(S: Stack[int]) -> int:\n",
    "    if stack_empty(S):\n",
    "        raise StringException(\"underflow\")\n",
    "    else:\n",
    "        S.top -= 1\n",
    "        return S.data[S.top + 1]"
   ],
   "id": "cd06d6d8301e226f"
  },
  {
   "metadata": {},
   "cell_type": "markdown",
   "source": [
    "## 队列（queue）\n",
    "\n",
    "### 类型定义"
   ],
   "id": "ba1b0339de2e14bc"
  },
  {
   "metadata": {},
   "cell_type": "code",
   "outputs": [],
   "execution_count": null,
   "source": [
    "class Queue:\n",
    "    def __init__(self, capacity: int = 100):\n",
    "        self.head: int = 0\n",
    "        self.tail: int = 0\n",
    "        self.capacity: int = capacity\n",
    "        self.data: List[int] = [0] * capacity"
   ],
   "id": "40f4079bcbcb3a6c"
  },
  {
   "metadata": {},
   "cell_type": "markdown",
   "source": "### 相关操作",
   "id": "e250f4b9c0bdea35"
  },
  {
   "metadata": {},
   "cell_type": "code",
   "outputs": [],
   "execution_count": null,
   "source": [
    "def enqueue(Q: Queue, x: int) -> None:\n",
    "    Q.data[Q.tail] = x\n",
    "    if Q.tail == len(Q.data) - 1:\n",
    "        Q.tail = 0\n",
    "    else:\n",
    "        Q.tail += 1\n",
    "\n",
    "\n",
    "def dequeue(Q: Queue) -> int:\n",
    "    x = Q.data[Q.head]\n",
    "    if Q.head == len(Q.data) - 1:\n",
    "        Q.head = 0\n",
    "    else:\n",
    "        Q.head += 1\n",
    "    return x"
   ],
   "id": "b72a3c0c02eb4fe7"
  },
  {
   "metadata": {},
   "cell_type": "markdown",
   "source": [
    "## 链表（linked list）\n",
    "\n",
    "### 类型定义"
   ],
   "id": "25b14e3565d2d49a"
  },
  {
   "metadata": {},
   "cell_type": "code",
   "outputs": [],
   "execution_count": null,
   "source": [
    "class LinkedListNode:\n",
    "    def __init__(self, key: int):\n",
    "        self.key: int = key\n",
    "        self.prev: Optional[LinkedListNode] = None\n",
    "        self.next: Optional[LinkedListNode] = None\n",
    "\n",
    "\n",
    "class LinkedList:\n",
    "    def __init__(self, key: int):\n",
    "        self.head: LinkedListNode = LinkedListNode(key)"
   ],
   "id": "eb37c12ddad5cba4"
  },
  {
   "metadata": {},
   "cell_type": "markdown",
   "source": "### 相关操作（无哨兵）",
   "id": "b4e3366f47e3da9b"
  },
  {
   "metadata": {},
   "cell_type": "code",
   "outputs": [],
   "execution_count": null,
   "source": [
    "# 链表的搜索\n",
    "def list_search(L: LinkedList, k: int) -> Optional[LinkedListNode]:\n",
    "    x = L.head\n",
    "    while x is not None and x.key != k:\n",
    "        x = x.next\n",
    "    return x\n",
    "\n",
    "\n",
    "# 链表的插入\n",
    "def list_insert(L: LinkedList, x: LinkedListNode) -> None:\n",
    "    x.next = L.head\n",
    "    if L.head is not None:\n",
    "        L.head.prev = x\n",
    "    L.head = x\n",
    "    x.prev = None\n",
    "\n",
    "\n",
    "# 链表的删除\n",
    "def list_delete(L: LinkedList, x: LinkedListNode) -> None:\n",
    "    if x.prev is not None:\n",
    "        x.prev.next = x.next\n",
    "    else:\n",
    "        L.head = x.next\n",
    "    if x.next is not None:\n",
    "        x.next.prev = x.prev"
   ],
   "id": "ff40f21c1ef5166d"
  },
  {
   "metadata": {},
   "cell_type": "markdown",
   "source": "### 相关操作（有哨兵）",
   "id": "729d0ce66f2af47a"
  },
  {
   "metadata": {},
   "cell_type": "code",
   "outputs": [],
   "execution_count": null,
   "source": [
    "def list_delete_1(L: LinkedList, x: LinkedListNode) -> None:\n",
    "    x.prev.next = x.next\n",
    "    x.next.prev = x.prev\n",
    "    \n",
    "\n",
    "def list_search_1(L: LinkedList, k: int) -> Optional[LinkedListNode]:\n",
    "    pass # todo\n",
    "\n",
    "\n",
    "def list_insert_1(L: LinkedList, x: LinkedListNode) -> None:\n",
    "    pass # todo"
   ],
   "id": "f807846c60d4b00c"
  },
  {
   "metadata": {},
   "cell_type": "code",
   "outputs": [],
   "execution_count": null,
   "source": "",
   "id": "9af36f9ee0eb3c83"
  }
 ],
 "metadata": {
  "kernelspec": {
   "display_name": "Python 3",
   "language": "python",
   "name": "python3"
  },
  "language_info": {
   "codemirror_mode": {
    "name": "ipython",
    "version": 2
   },
   "file_extension": ".py",
   "mimetype": "text/x-python",
   "name": "python",
   "nbconvert_exporter": "python",
   "pygments_lexer": "ipython2",
   "version": "2.7.6"
  }
 },
 "nbformat": 4,
 "nbformat_minor": 5
}
